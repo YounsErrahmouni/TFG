{
 "cells": [
  {
   "cell_type": "code",
   "execution_count": 6,
   "metadata": {},
   "outputs": [],
   "source": [
    "import numpy as np\n",
    "import pandas as pd \n",
    "import os\n",
    "import matplotlib.pyplot as plt\n",
    "import seaborn as sns"
   ]
  },
  {
   "cell_type": "code",
   "execution_count": 11,
   "metadata": {},
   "outputs": [
    {
     "name": "stdout",
     "output_type": "stream",
     "text": [
      "There are this number of expedients 13810\n",
      "The real number of expedients is 6257\n"
     ]
    }
   ],
   "source": [
    "data_set = pd.read_csv('2020_accidents_persones_gu_bcn.csv',sep = \",\")\n",
    "\n",
    "numer_exp=data_set.iloc[:,0]\n",
    "numer_exp1= len(numer_exp)\n",
    "print('There are this number of expedients'+' '+str(numer_exp1))\n",
    "real_people= numer_exp.drop_duplicates()\n",
    "real=len(real_people)\n",
    "print('The real number of expedients is'+' ' +str(real))"
   ]
  }
 ],
 "metadata": {
  "kernelspec": {
   "display_name": "qda-environment_MAC",
   "language": "python",
   "name": "python3"
  },
  "language_info": {
   "codemirror_mode": {
    "name": "ipython",
    "version": 3
   },
   "file_extension": ".py",
   "mimetype": "text/x-python",
   "name": "python",
   "nbconvert_exporter": "python",
   "pygments_lexer": "ipython3",
   "version": "3.10.4"
  },
  "orig_nbformat": 4,
  "vscode": {
   "interpreter": {
    "hash": "ddbab500cb11211a745680fd9d1a021ebe387ff4c58205a0c57203e83576c9f4"
   }
  }
 },
 "nbformat": 4,
 "nbformat_minor": 2
}
