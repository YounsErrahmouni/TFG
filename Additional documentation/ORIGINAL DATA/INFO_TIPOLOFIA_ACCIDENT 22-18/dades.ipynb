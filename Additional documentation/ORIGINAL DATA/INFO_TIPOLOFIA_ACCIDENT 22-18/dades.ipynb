{
 "cells": [
  {
   "cell_type": "code",
   "execution_count": 1,
   "metadata": {},
   "outputs": [],
   "source": [
    "import numpy as np\n",
    "import pandas as pd \n",
    "import os\n",
    "import matplotlib.pyplot as plt\n",
    "import seaborn as sns"
   ]
  },
  {
   "cell_type": "code",
   "execution_count": 2,
   "metadata": {},
   "outputs": [
    {
     "name": "stdout",
     "output_type": "stream",
     "text": [
      "<class 'pandas.core.frame.DataFrame'>\n",
      "RangeIndex: 10551 entries, 0 to 10550\n",
      "Data columns (total 22 columns):\n",
      " #   Column            Non-Null Count  Dtype  \n",
      "---  ------            --------------  -----  \n",
      " 0   Codi_expedient    10551 non-null  object \n",
      " 1   Codi_districte    10551 non-null  int64  \n",
      " 2   Nom_districte     10551 non-null  object \n",
      " 3   Codi_barri        10551 non-null  int64  \n",
      " 4   Nom_barri         10551 non-null  object \n",
      " 5   Codi_carrer       10551 non-null  int64  \n",
      " 6   Nom_carrer        10550 non-null  object \n",
      " 7   Num_postal        10551 non-null  object \n",
      " 8   Dia_setmana       10551 non-null  object \n",
      " 9   ID_Dia_setmana    10551 non-null  object \n",
      " 10  Tipus_dia         10551 non-null  object \n",
      " 11  Any               10551 non-null  int64  \n",
      " 12  Mes               10551 non-null  int64  \n",
      " 13  Nom_mes           10551 non-null  object \n",
      " 14  Dia_de_mes        10551 non-null  int64  \n",
      " 15  Hora_de_dia       10551 non-null  int64  \n",
      " 16  Torn              10551 non-null  object \n",
      " 17  Tipus_accident    10551 non-null  object \n",
      " 18  Coordenada_UTM_X  10551 non-null  float64\n",
      " 19  Coordenada_UTM_Y  10551 non-null  float64\n",
      " 20  Longitud          10551 non-null  float64\n",
      " 21  Latitud           10551 non-null  float64\n",
      "dtypes: float64(4), int64(7), object(11)\n",
      "memory usage: 1.8+ MB\n",
      "There are this number of expedients 10551\n",
      "9926\n"
     ]
    },
    {
     "data": {
      "text/plain": [
       "Codi_expedient                                        2018S000001    \n",
       "Codi_districte                                                      3\n",
       "Nom_districte                                          Sants-Montjuïc\n",
       "Codi_barri                                                         11\n",
       "Nom_barri                                                el Poble-sec\n",
       "Codi_carrer                                                    198804\n",
       "Nom_carrer          Paral·lel                                     ...\n",
       "Num_postal                                                  0117 0119\n",
       "Dia_setmana                                                   Dilluns\n",
       "ID_Dia_setmana                                                     Dl\n",
       "Tipus_dia                                                     Laboral\n",
       "Any                                                              2018\n",
       "Mes                                                                 1\n",
       "Nom_mes                                                         Gener\n",
       "Dia_de_mes                                                          1\n",
       "Hora_de_dia                                                         3\n",
       "Torn                                                              Nit\n",
       "Tipus_accident                                         Abast multiple\n",
       "Coordenada_UTM_X                                            429910.63\n",
       "Coordenada_UTM_Y                                           4580909.28\n",
       "Longitud                                                     2.160723\n",
       "Latitud                                                     41.374806\n",
       "Name: 0, dtype: object"
      ]
     },
     "execution_count": 2,
     "metadata": {},
     "output_type": "execute_result"
    }
   ],
   "source": [
    "data_set = pd.read_csv('2018_accidents_tipus_gu_bcn_.csv',sep = \",\")\n",
    "data_set\n",
    "data_set.info()\n",
    "numer_exp=data_set.iloc[:,0]\n",
    "numer_exp1= len(numer_exp)\n",
    "print('There are this number of expedients'+' '+str(numer_exp1))\n",
    "real_people= numer_exp.drop_duplicates()\n",
    "real=len(real_people)\n",
    "print(real)\n",
    "\n",
    "data_set.iloc[0,:]\n",
    "\n"
   ]
  },
  {
   "cell_type": "code",
   "execution_count": 3,
   "metadata": {},
   "outputs": [
    {
     "name": "stdout",
     "output_type": "stream",
     "text": [
      "<class 'pandas.core.frame.DataFrame'>\n",
      "RangeIndex: 10536 entries, 0 to 10535\n",
      "Data columns (total 22 columns):\n",
      " #   Column                     Non-Null Count  Dtype  \n",
      "---  ------                     --------------  -----  \n",
      " 0   Numero_expedient           10536 non-null  object \n",
      " 1   Codi_districte             10536 non-null  int64  \n",
      " 2   Nom_districte              10536 non-null  object \n",
      " 3   Codi_barri                 10536 non-null  int64  \n",
      " 4   Nom_barri                  10536 non-null  object \n",
      " 5   Codi_carrer                10536 non-null  int64  \n",
      " 6   Nom_carrer                 10536 non-null  object \n",
      " 7   Num_postal_caption         5513 non-null   object \n",
      " 8   Descripcio_dia_setmana     10536 non-null  object \n",
      " 9   Dia_setmana                10536 non-null  object \n",
      " 10  Descripcio_tipus_dia       10536 non-null  object \n",
      " 11  NK_Any                     10536 non-null  int64  \n",
      " 12  Mes_any                    10536 non-null  int64  \n",
      " 13  Nom_mes                    10536 non-null  object \n",
      " 14  Dia_mes                    10536 non-null  int64  \n",
      " 15  Hora_dia                   10536 non-null  int64  \n",
      " 16  Descripcio_torn            10536 non-null  object \n",
      " 17  Descripcio_tipus_accident  10536 non-null  object \n",
      " 18  Coordenada_UTM_X           10536 non-null  float64\n",
      " 19  Coordenada_UTM_Y           10536 non-null  float64\n",
      " 20  Longitud                   10536 non-null  float64\n",
      " 21  Latitud                    10536 non-null  float64\n",
      "dtypes: float64(4), int64(7), object(11)\n",
      "memory usage: 1.8+ MB\n",
      "There are this number of expedients 10536\n",
      "10028\n"
     ]
    },
    {
     "data": {
      "text/plain": [
       "Numero_expedient                                               2019S000253    \n",
       "Codi_districte                                                              10\n",
       "Nom_districte                                                       Sant Martí\n",
       "Codi_barri                                                                  64\n",
       "Nom_barri                                           el Camp de l'Arpa del Clot\n",
       "Codi_carrer                                                             161407\n",
       "Nom_carrer                   Indústria                                     ...\n",
       "Num_postal_caption                                                         321\n",
       "Descripcio_dia_setmana                                               Divendres\n",
       "Dia_setmana                                                                 Dv\n",
       "Descripcio_tipus_dia                                                   Laboral\n",
       "NK_Any                                                                    2019\n",
       "Mes_any                                                                      1\n",
       "Nom_mes                                                                  Gener\n",
       "Dia_mes                                                                     11\n",
       "Hora_dia                                                                    10\n",
       "Descripcio_torn                                                           Matí\n",
       "Descripcio_tipus_accident                                 Caiguda (dues rodes)\n",
       "Coordenada_UTM_X                                                     431894.47\n",
       "Coordenada_UTM_Y                                                    4585568.41\n",
       "Longitud                                                              2.183828\n",
       "Latitud                                                              41.416959\n",
       "Name: 0, dtype: object"
      ]
     },
     "execution_count": 3,
     "metadata": {},
     "output_type": "execute_result"
    }
   ],
   "source": [
    "data_set = pd.read_csv('2019_accidents_tipus_gu_bcn_.csv',sep = \",\")\n",
    "data_set\n",
    "data_set.info()\n",
    "numer_exp=data_set.iloc[:,0]\n",
    "numer_exp1= len(numer_exp)\n",
    "print('There are this number of expedients'+' '+str(numer_exp1))\n",
    "real_people= numer_exp.drop_duplicates()\n",
    "real=len(real_people)\n",
    "print(real)\n",
    "\n",
    "data_set.iloc[0,:]"
   ]
  },
  {
   "cell_type": "code",
   "execution_count": 4,
   "metadata": {},
   "outputs": [
    {
     "name": "stdout",
     "output_type": "stream",
     "text": [
      "<class 'pandas.core.frame.DataFrame'>\n",
      "RangeIndex: 6580 entries, 0 to 6579\n",
      "Data columns (total 22 columns):\n",
      " #   Column                     Non-Null Count  Dtype  \n",
      "---  ------                     --------------  -----  \n",
      " 0   Numero_expedient           6580 non-null   object \n",
      " 1   Codi_districte             6580 non-null   int64  \n",
      " 2   Nom_districte              6580 non-null   object \n",
      " 3   Codi_barri                 6580 non-null   int64  \n",
      " 4   Nom_barri                  6580 non-null   object \n",
      " 5   Codi_carrer                6580 non-null   int64  \n",
      " 6   Nom_carrer                 6580 non-null   object \n",
      " 7   Num_postal_caption         6580 non-null   object \n",
      " 8   Descripcio_dia_setmana     6580 non-null   object \n",
      " 9   Dia_setmana                6580 non-null   object \n",
      " 10  Descripcio_tipus_dia       6580 non-null   object \n",
      " 11  NK_Any                     6580 non-null   int64  \n",
      " 12  Mes_any                    6580 non-null   int64  \n",
      " 13  Nom_mes                    6580 non-null   object \n",
      " 14  Dia_mes                    6580 non-null   int64  \n",
      " 15  Hora_dia                   6580 non-null   int64  \n",
      " 16  Descripcio_torn            6580 non-null   object \n",
      " 17  Descripcio_tipus_accident  6580 non-null   object \n",
      " 18  Coordenada_UTM_X           6580 non-null   object \n",
      " 19  Coordenada_UTM_Y           6580 non-null   object \n",
      " 20  Longitud                   6580 non-null   object \n",
      " 21  Latitud                    6580 non-null   float64\n",
      "dtypes: float64(1), int64(7), object(14)\n",
      "memory usage: 1.1+ MB\n",
      "There are this number of expedients 6580\n",
      "6261\n"
     ]
    },
    {
     "data": {
      "text/plain": [
       "Numero_expedient                        2020S000001    \n",
       "Codi_districte                                        7\n",
       "Nom_districte                            Horta-Guinardó\n",
       "Codi_barri                                           36\n",
       "Nom_barri                          la Font d'en Fargues\n",
       "Codi_carrer                                      194406\n",
       "Nom_carrer                                     Maragall\n",
       "Num_postal_caption                            0353 0355\n",
       "Descripcio_dia_setmana                         Dimecres\n",
       "Dia_setmana                                          Dc\n",
       "Descripcio_tipus_dia                            Laboral\n",
       "NK_Any                                             2020\n",
       "Mes_any                                               1\n",
       "Nom_mes                                           Gener\n",
       "Dia_mes                                               1\n",
       "Hora_dia                                              0\n",
       "Descripcio_torn                                     Nit\n",
       "Descripcio_tipus_accident    Xoc contra element estàtic\n",
       "Coordenada_UTM_X                              430501,45\n",
       "Coordenada_UTM_Y                             4586751,53\n",
       "Longitud                                    2.167115845\n",
       "Latitud                                       41.427474\n",
       "Name: 0, dtype: object"
      ]
     },
     "execution_count": 4,
     "metadata": {},
     "output_type": "execute_result"
    }
   ],
   "source": [
    "data_set = pd.read_csv('2020_accidents_tipus_gu_bcn.csv',sep = \",\")\n",
    "data_set.info()\n",
    "numer_exp=data_set.iloc[:,0]\n",
    "numer_exp1= len(numer_exp)\n",
    "print('There are this number of expedients'+' '+str(numer_exp1))\n",
    "real_people= numer_exp.drop_duplicates()\n",
    "real=len(real_people)\n",
    "print(real)\n",
    "\n",
    "data_set.iloc[0,:]"
   ]
  },
  {
   "cell_type": "code",
   "execution_count": 5,
   "metadata": {},
   "outputs": [
    {
     "name": "stdout",
     "output_type": "stream",
     "text": [
      "<class 'pandas.core.frame.DataFrame'>\n",
      "RangeIndex: 7796 entries, 0 to 7795\n",
      "Data columns (total 20 columns):\n",
      " #   Column                     Non-Null Count  Dtype  \n",
      "---  ------                     --------------  -----  \n",
      " 0   Numero_expedient           7796 non-null   object \n",
      " 1   Codi_districte             7796 non-null   int64  \n",
      " 2   Nom_districte              7796 non-null   object \n",
      " 3   Codi_barri                 7796 non-null   int64  \n",
      " 4   Nom_barri                  7796 non-null   object \n",
      " 5   Codi_carrer                7796 non-null   int64  \n",
      " 6   Nom_carrer                 7796 non-null   object \n",
      " 7   Num_postal_caption         7796 non-null   object \n",
      " 8   Descripcio_dia_setmana     7796 non-null   object \n",
      " 9   NK_Any                     7796 non-null   int64  \n",
      " 10  Mes_any                    7796 non-null   int64  \n",
      " 11  Nom_mes                    7796 non-null   object \n",
      " 12  Dia_mes                    7796 non-null   int64  \n",
      " 13  Hora_dia                   7796 non-null   int64  \n",
      " 14  Descripcio_torn            7796 non-null   object \n",
      " 15  Descripcio_tipus_accident  7796 non-null   object \n",
      " 16  Coordenada_UTM_X_ED50      7796 non-null   float64\n",
      " 17  Coordenada_UTM_Y_ED50      7796 non-null   float64\n",
      " 18  Longitud_WGS84             7794 non-null   float64\n",
      " 19  Latitud_WGS84              7794 non-null   float64\n",
      "dtypes: float64(4), int64(7), object(9)\n",
      "memory usage: 1.2+ MB\n",
      "There are this number of expedients 7796\n",
      "7653\n"
     ]
    },
    {
     "data": {
      "text/plain": [
       "Numero_expedient                                               2021S006247    \n",
       "Codi_districte                                                              -1\n",
       "Nom_districte                                                       Desconegut\n",
       "Codi_barri                                                                  -1\n",
       "Nom_barri                                                           Desconegut\n",
       "Codi_carrer                                                                 -1\n",
       "Nom_carrer                   Glòries Catalanes                             ...\n",
       "Num_postal_caption                                                  Desconegut\n",
       "Descripcio_dia_setmana                                                Dimecres\n",
       "NK_Any                                                                    2021\n",
       "Mes_any                                                                     11\n",
       "Nom_mes                                                               Novembre\n",
       "Dia_mes                                                                      3\n",
       "Hora_dia                                                                    12\n",
       "Descripcio_torn                                                           Matí\n",
       "Descripcio_tipus_accident                             Caiguda interior vehicle\n",
       "Coordenada_UTM_X_ED50                                                     -1.0\n",
       "Coordenada_UTM_Y_ED50                                                     -1.0\n",
       "Longitud_WGS84                                                             NaN\n",
       "Latitud_WGS84                                                              NaN\n",
       "Name: 0, dtype: object"
      ]
     },
     "execution_count": 5,
     "metadata": {},
     "output_type": "execute_result"
    }
   ],
   "source": [
    "data_set = pd.read_csv('2021_accidents_tipus_gu_bcn.csv',sep = \",\")\n",
    "data_set\n",
    "data_set.info()\n",
    "numer_exp=data_set.iloc[:,0]\n",
    "numer_exp1= len(numer_exp)\n",
    "print('There are this number of expedients'+' '+str(numer_exp1))\n",
    "real_people= numer_exp.drop_duplicates()\n",
    "real=len(real_people)\n",
    "print(real)\n",
    "\n",
    "data_set.iloc[0,:]"
   ]
  },
  {
   "cell_type": "code",
   "execution_count": 6,
   "metadata": {},
   "outputs": [
    {
     "name": "stdout",
     "output_type": "stream",
     "text": [
      "<class 'pandas.core.frame.DataFrame'>\n",
      "RangeIndex: 8098 entries, 0 to 8097\n",
      "Data columns (total 20 columns):\n",
      " #   Column                     Non-Null Count  Dtype  \n",
      "---  ------                     --------------  -----  \n",
      " 0   Numero_expedient           8098 non-null   object \n",
      " 1   Codi_districte             8098 non-null   int64  \n",
      " 2   Nom_districte              8098 non-null   object \n",
      " 3   Codi_barri                 8098 non-null   int64  \n",
      " 4   Nom_barri                  8098 non-null   object \n",
      " 5   Codi_carrer                8098 non-null   int64  \n",
      " 6   Nom_carrer                 8097 non-null   object \n",
      " 7   Num_postal_caption         8098 non-null   object \n",
      " 8   Descripcio_dia_setmana     8098 non-null   object \n",
      " 9   NK_Any                     8098 non-null   int64  \n",
      " 10  Mes_any                    8098 non-null   int64  \n",
      " 11  Nom_mes                    8098 non-null   object \n",
      " 12  Dia_mes                    8098 non-null   int64  \n",
      " 13  Hora_dia                   8098 non-null   int64  \n",
      " 14  Descripcio_torn            8098 non-null   object \n",
      " 15  Descripcio_tipus_accident  8098 non-null   object \n",
      " 16  Coordenada_UTM_X_ED50      8098 non-null   float64\n",
      " 17  Coordenada_UTM_Y_ED50      8098 non-null   float64\n",
      " 18  Longitud                   8098 non-null   float64\n",
      " 19  Latitud                    8098 non-null   float64\n",
      "dtypes: float64(4), int64(7), object(9)\n",
      "memory usage: 1.2+ MB\n",
      "There are this number of expedients 8098\n",
      "7989\n"
     ]
    },
    {
     "data": {
      "text/plain": [
       "Numero_expedient                                               2022S001930    \n",
       "Codi_districte                                                              -1\n",
       "Nom_districte                                                       Desconegut\n",
       "Codi_barri                                                                  -1\n",
       "Nom_barri                                                           Desconegut\n",
       "Codi_carrer                                                                 -1\n",
       "Nom_carrer                   Escorial / Dalt                               ...\n",
       "Num_postal_caption                                                  Desconegut\n",
       "Descripcio_dia_setmana                                                Diumenge\n",
       "NK_Any                                                                    2022\n",
       "Mes_any                                                                      4\n",
       "Nom_mes                                                                  Abril\n",
       "Dia_mes                                                                      3\n",
       "Hora_dia                                                                     1\n",
       "Descripcio_torn                                                            Nit\n",
       "Descripcio_tipus_accident                                                Abast\n",
       "Coordenada_UTM_X_ED50                                                429688.64\n",
       "Coordenada_UTM_Y_ED50                                               4584955.16\n",
       "Longitud                                                              2.184189\n",
       "Latitud                                                              41.410203\n",
       "Name: 0, dtype: object"
      ]
     },
     "execution_count": 6,
     "metadata": {},
     "output_type": "execute_result"
    }
   ],
   "source": [
    "data_set = pd.read_csv('2022_accidents_tipus_gu_bcn.csv',sep = \",\")\n",
    "data_set.info()\n",
    "numer_exp=data_set.iloc[:,0]\n",
    "numer_exp1= len(numer_exp)\n",
    "print('There are this number of expedients'+' '+str(numer_exp1))\n",
    "real_people= numer_exp.drop_duplicates()\n",
    "real=len(real_people)\n",
    "print(real)\n",
    "\n",
    "data_set.iloc[0,:]\n"
   ]
  }
 ],
 "metadata": {
  "kernelspec": {
   "display_name": "qda-environment_MAC",
   "language": "python",
   "name": "python3"
  },
  "language_info": {
   "codemirror_mode": {
    "name": "ipython",
    "version": 3
   },
   "file_extension": ".py",
   "mimetype": "text/x-python",
   "name": "python",
   "nbconvert_exporter": "python",
   "pygments_lexer": "ipython3",
   "version": "3.10.4"
  },
  "orig_nbformat": 4,
  "vscode": {
   "interpreter": {
    "hash": "ddbab500cb11211a745680fd9d1a021ebe387ff4c58205a0c57203e83576c9f4"
   }
  }
 },
 "nbformat": 4,
 "nbformat_minor": 2
}
