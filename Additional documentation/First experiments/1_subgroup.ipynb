{
 "cells": [
  {
   "cell_type": "code",
   "execution_count": 158,
   "metadata": {},
   "outputs": [],
   "source": [
    "import numpy as np\n",
    "import pandas as pd \n",
    "import os\n",
    "import matplotlib.pyplot as plt\n",
    "import seaborn as sns\n",
    "import sklearn"
   ]
  },
  {
   "cell_type": "code",
   "execution_count": 159,
   "metadata": {},
   "outputs": [
    {
     "name": "stdout",
     "output_type": "stream",
     "text": [
      "<class 'pandas.core.frame.DataFrame'>\n",
      "RangeIndex: 29254 entries, 0 to 29253\n",
      "Data columns (total 21 columns):\n",
      " #   Column                Non-Null Count  Dtype \n",
      "---  ------                --------------  ----- \n",
      " 0   Unnamed: 0.1          29254 non-null  int64 \n",
      " 1   Unnamed: 0            29254 non-null  int64 \n",
      " 2   File_Num              29244 non-null  object\n",
      " 3   District              29254 non-null  object\n",
      " 4   Neighbourhood         29254 non-null  object\n",
      " 5   Street_name           29213 non-null  object\n",
      " 6   Day_name              29254 non-null  object\n",
      " 7   year                  29254 non-null  int64 \n",
      " 8   month                 29254 non-null  int64 \n",
      " 9   Month_name            29254 non-null  object\n",
      " 10  day                   29254 non-null  int64 \n",
      " 11  hour                  29254 non-null  int64 \n",
      " 12  Day_shift             29254 non-null  object\n",
      " 13  Pedestrian_situation  29254 non-null  object\n",
      " 14  Vehicle_type          29244 non-null  object\n",
      " 15  Model                 29242 non-null  object\n",
      " 16  Brand                 29244 non-null  object\n",
      " 17  Color                 29244 non-null  object\n",
      " 18  License_type          29244 non-null  object\n",
      " 19  License_age           29244 non-null  object\n",
      " 20  Date                  29254 non-null  object\n",
      "dtypes: int64(6), object(15)\n",
      "memory usage: 4.7+ MB\n"
     ]
    }
   ],
   "source": [
    "vehicle=pd.read_csv('Accident_vehicles_2021_2022.csv')\n",
    "vehicle.info()"
   ]
  },
  {
   "cell_type": "code",
   "execution_count": 160,
   "metadata": {},
   "outputs": [
    {
     "name": "stdout",
     "output_type": "stream",
     "text": [
      "<class 'pandas.core.frame.DataFrame'>\n",
      "RangeIndex: 17919 entries, 0 to 17918\n",
      "Data columns (total 22 columns):\n",
      " #   Column                        Non-Null Count  Dtype \n",
      "---  ------                        --------------  ----- \n",
      " 0   Unnamed: 0                    17919 non-null  int64 \n",
      " 1   File_Num                      17919 non-null  object\n",
      " 2   District                      17919 non-null  object\n",
      " 3   Neighbourhood                 17919 non-null  object\n",
      " 4   Street_name                   17919 non-null  object\n",
      " 5   Day_name                      17919 non-null  object\n",
      " 6   year                          17919 non-null  int64 \n",
      " 7   month                         17919 non-null  int64 \n",
      " 8   Month_name                    17919 non-null  object\n",
      " 9   day                           17919 non-null  int64 \n",
      " 10  Day_shift                     17919 non-null  object\n",
      " 11  hour                          17919 non-null  int64 \n",
      " 12  Pedestrian_situation          17919 non-null  object\n",
      " 13  Vehicle_type                  17919 non-null  object\n",
      " 14  Gender                        17919 non-null  object\n",
      " 15  Age                           17919 non-null  object\n",
      " 16  Person_type                   17919 non-null  object\n",
      " 17  Pedestrian_accident_location  17919 non-null  object\n",
      " 18  Pedestrian_intention          17919 non-null  object\n",
      " 19  Driver_intention              17919 non-null  object\n",
      " 20  Accident_severity             17919 non-null  object\n",
      " 21  Date                          17919 non-null  object\n",
      "dtypes: int64(5), object(17)\n",
      "memory usage: 3.0+ MB\n"
     ]
    }
   ],
   "source": [
    "persones=pd.read_csv('Accident_people_2021_2022.csv')\n",
    "persones.info()"
   ]
  },
  {
   "cell_type": "code",
   "execution_count": 161,
   "metadata": {},
   "outputs": [
    {
     "name": "stdout",
     "output_type": "stream",
     "text": [
      "<class 'pandas.core.frame.DataFrame'>\n",
      "RangeIndex: 35040 entries, 0 to 35039\n",
      "Data columns (total 7 columns):\n",
      " #   Column     Non-Null Count  Dtype  \n",
      "---  ------     --------------  -----  \n",
      " 0   Date       35040 non-null  object \n",
      " 1   03.TM      35040 non-null  float64\n",
      " 2   06.HRM     35040 non-null  float64\n",
      " 3   07.PPT24H  35040 non-null  float64\n",
      " 4   08.HPA     35040 non-null  float64\n",
      " 5   09.RS24H   35040 non-null  float64\n",
      " 6   10.VVM10   35040 non-null  float64\n",
      "dtypes: float64(6), object(1)\n",
      "memory usage: 1.9+ MB\n"
     ]
    }
   ],
   "source": [
    "weather=pd.read_csv('data_meteo_estudifinal_2021_2022.csv')\n",
    "weather = weather.drop(weather.columns[0], axis=1)\n",
    "weather.rename(columns={'DATA_LECTURA':'Date'},inplace=True)\n",
    "weather.info()"
   ]
  },
  {
   "cell_type": "code",
   "execution_count": 162,
   "metadata": {},
   "outputs": [
    {
     "data": {
      "text/html": [
       "<div>\n",
       "<style scoped>\n",
       "    .dataframe tbody tr th:only-of-type {\n",
       "        vertical-align: middle;\n",
       "    }\n",
       "\n",
       "    .dataframe tbody tr th {\n",
       "        vertical-align: top;\n",
       "    }\n",
       "\n",
       "    .dataframe thead th {\n",
       "        text-align: right;\n",
       "    }\n",
       "</style>\n",
       "<table border=\"1\" class=\"dataframe\">\n",
       "  <thead>\n",
       "    <tr style=\"text-align: right;\">\n",
       "      <th></th>\n",
       "      <th>Unnamed: 0</th>\n",
       "      <th>File_Num</th>\n",
       "      <th>District</th>\n",
       "      <th>Neighbourhood</th>\n",
       "      <th>Street_name</th>\n",
       "      <th>Day_name</th>\n",
       "      <th>year</th>\n",
       "      <th>month</th>\n",
       "      <th>Month_name</th>\n",
       "      <th>day</th>\n",
       "      <th>...</th>\n",
       "      <th>Pedestrian_situation</th>\n",
       "      <th>Vehicle_type</th>\n",
       "      <th>Gender</th>\n",
       "      <th>Age</th>\n",
       "      <th>Person_type</th>\n",
       "      <th>Pedestrian_accident_location</th>\n",
       "      <th>Pedestrian_intention</th>\n",
       "      <th>Driver_intention</th>\n",
       "      <th>Accident_severity</th>\n",
       "      <th>Date</th>\n",
       "    </tr>\n",
       "  </thead>\n",
       "  <tbody>\n",
       "    <tr>\n",
       "      <th>6</th>\n",
       "      <td>6</td>\n",
       "      <td>2021S003310</td>\n",
       "      <td>Ciutat Vella</td>\n",
       "      <td>el Barri Gòtic</td>\n",
       "      <td>Catalunya</td>\n",
       "      <td>Dijous</td>\n",
       "      <td>2021</td>\n",
       "      <td>6</td>\n",
       "      <td>Juny</td>\n",
       "      <td>17</td>\n",
       "      <td>...</td>\n",
       "      <td>Not pedestrian fault</td>\n",
       "      <td>Vehicle without motor</td>\n",
       "      <td>Men</td>\n",
       "      <td>31</td>\n",
       "      <td>Driver</td>\n",
       "      <td>A la vorera / Andana                          ...</td>\n",
       "      <td>Desconegut</td>\n",
       "      <td>Oci i entreteniment</td>\n",
       "      <td>Assistance</td>\n",
       "      <td>2021-06-17 20:00:00</td>\n",
       "    </tr>\n",
       "    <tr>\n",
       "      <th>8</th>\n",
       "      <td>8</td>\n",
       "      <td>2021S001728</td>\n",
       "      <td>Ciutat Vella</td>\n",
       "      <td>la Barceloneta</td>\n",
       "      <td>Marina</td>\n",
       "      <td>Diumenge</td>\n",
       "      <td>2021</td>\n",
       "      <td>4</td>\n",
       "      <td>Abril</td>\n",
       "      <td>4</td>\n",
       "      <td>...</td>\n",
       "      <td>Not known</td>\n",
       "      <td>Vehicle without motor</td>\n",
       "      <td>Women</td>\n",
       "      <td>45</td>\n",
       "      <td>Driver</td>\n",
       "      <td>A la vorera / Andana                          ...</td>\n",
       "      <td>Desconegut</td>\n",
       "      <td>Oci i entreteniment</td>\n",
       "      <td>Hospitalized</td>\n",
       "      <td>2021-04-04 10:00:00</td>\n",
       "    </tr>\n",
       "    <tr>\n",
       "      <th>17</th>\n",
       "      <td>17</td>\n",
       "      <td>2021S005721</td>\n",
       "      <td>Eixample</td>\n",
       "      <td>el Fort Pienc</td>\n",
       "      <td>Marina</td>\n",
       "      <td>Dimecres</td>\n",
       "      <td>2021</td>\n",
       "      <td>10</td>\n",
       "      <td>Octubre</td>\n",
       "      <td>13</td>\n",
       "      <td>...</td>\n",
       "      <td>Not pedestrian fault</td>\n",
       "      <td>Other</td>\n",
       "      <td>Women</td>\n",
       "      <td>51</td>\n",
       "      <td>Driver</td>\n",
       "      <td>A la vorera / Andana                          ...</td>\n",
       "      <td>Desconegut</td>\n",
       "      <td>In itínere</td>\n",
       "      <td>Hospitalized</td>\n",
       "      <td>2021-10-13 08:00:00</td>\n",
       "    </tr>\n",
       "    <tr>\n",
       "      <th>31</th>\n",
       "      <td>31</td>\n",
       "      <td>2021S005403</td>\n",
       "      <td>Eixample</td>\n",
       "      <td>l'Antiga Esquerra de l'Eixample</td>\n",
       "      <td>Aragó</td>\n",
       "      <td>Dimecres</td>\n",
       "      <td>2021</td>\n",
       "      <td>9</td>\n",
       "      <td>Setembre</td>\n",
       "      <td>29</td>\n",
       "      <td>...</td>\n",
       "      <td>Not pedestrian fault</td>\n",
       "      <td>Car</td>\n",
       "      <td>Men</td>\n",
       "      <td>71</td>\n",
       "      <td>Driver</td>\n",
       "      <td>A la vorera / Andana                          ...</td>\n",
       "      <td>Desconegut</td>\n",
       "      <td>Oci i entreteniment</td>\n",
       "      <td>Assistance</td>\n",
       "      <td>2021-09-29 09:00:00</td>\n",
       "    </tr>\n",
       "    <tr>\n",
       "      <th>39</th>\n",
       "      <td>39</td>\n",
       "      <td>2021S004164</td>\n",
       "      <td>Eixample</td>\n",
       "      <td>Sant Antoni</td>\n",
       "      <td>Comte Borrell</td>\n",
       "      <td>Divendres</td>\n",
       "      <td>2021</td>\n",
       "      <td>7</td>\n",
       "      <td>Juliol</td>\n",
       "      <td>23</td>\n",
       "      <td>...</td>\n",
       "      <td>Not pedestrian fault</td>\n",
       "      <td>Motorcycle</td>\n",
       "      <td>Men</td>\n",
       "      <td>24</td>\n",
       "      <td>Driver</td>\n",
       "      <td>A la vorera / Andana                          ...</td>\n",
       "      <td>Desconegut</td>\n",
       "      <td>Altres activitats</td>\n",
       "      <td>Hospitalized</td>\n",
       "      <td>2021-07-23 19:00:00</td>\n",
       "    </tr>\n",
       "  </tbody>\n",
       "</table>\n",
       "<p>5 rows × 22 columns</p>\n",
       "</div>"
      ],
      "text/plain": [
       "    Unnamed: 0         File_Num      District  \\\n",
       "6            6  2021S003310      Ciutat Vella   \n",
       "8            8  2021S001728      Ciutat Vella   \n",
       "17          17  2021S005721          Eixample   \n",
       "31          31  2021S005403          Eixample   \n",
       "39          39  2021S004164          Eixample   \n",
       "\n",
       "                      Neighbourhood    Street_name   Day_name  year  month  \\\n",
       "6                    el Barri Gòtic      Catalunya     Dijous  2021      6   \n",
       "8                    la Barceloneta         Marina   Diumenge  2021      4   \n",
       "17                    el Fort Pienc         Marina   Dimecres  2021     10   \n",
       "31  l'Antiga Esquerra de l'Eixample          Aragó   Dimecres  2021      9   \n",
       "39                      Sant Antoni  Comte Borrell  Divendres  2021      7   \n",
       "\n",
       "   Month_name  day  ...  Pedestrian_situation           Vehicle_type Gender  \\\n",
       "6        Juny   17  ...  Not pedestrian fault  Vehicle without motor    Men   \n",
       "8       Abril    4  ...             Not known  Vehicle without motor  Women   \n",
       "17    Octubre   13  ...  Not pedestrian fault                  Other  Women   \n",
       "31   Setembre   29  ...  Not pedestrian fault                    Car    Men   \n",
       "39     Juliol   23  ...  Not pedestrian fault             Motorcycle    Men   \n",
       "\n",
       "   Age Person_type                       Pedestrian_accident_location  \\\n",
       "6   31      Driver  A la vorera / Andana                          ...   \n",
       "8   45      Driver  A la vorera / Andana                          ...   \n",
       "17  51      Driver  A la vorera / Andana                          ...   \n",
       "31  71      Driver  A la vorera / Andana                          ...   \n",
       "39  24      Driver  A la vorera / Andana                          ...   \n",
       "\n",
       "   Pedestrian_intention     Driver_intention Accident_severity  \\\n",
       "6            Desconegut  Oci i entreteniment        Assistance   \n",
       "8            Desconegut  Oci i entreteniment      Hospitalized   \n",
       "17           Desconegut           In itínere      Hospitalized   \n",
       "31           Desconegut  Oci i entreteniment        Assistance   \n",
       "39           Desconegut    Altres activitats      Hospitalized   \n",
       "\n",
       "                   Date  \n",
       "6   2021-06-17 20:00:00  \n",
       "8   2021-04-04 10:00:00  \n",
       "17  2021-10-13 08:00:00  \n",
       "31  2021-09-29 09:00:00  \n",
       "39  2021-07-23 19:00:00  \n",
       "\n",
       "[5 rows x 22 columns]"
      ]
     },
     "execution_count": 162,
     "metadata": {},
     "output_type": "execute_result"
    }
   ],
   "source": [
    "persones= persones[persones['Person_type'] == 'Driver']\n",
    "persones.head()"
   ]
  },
  {
   "attachments": {},
   "cell_type": "markdown",
   "metadata": {},
   "source": [
    "IN THIS FIRST EXEPERIMENT WE TAKE INTO ACCOUNT THIS FEATURES/VARIABLES:\n",
    "\n",
    "Vehicle_type, Day_shift,GENDER, AGE, quarter (TRIMESTRE), AVERAGE TEMP, HUMIDITY,WIND VELOC,\n",
    "LET'S GET THE A DATA SET WITH JUST THIS VARIABLES"
   ]
  },
  {
   "cell_type": "code",
   "execution_count": 163,
   "metadata": {},
   "outputs": [
    {
     "name": "stdout",
     "output_type": "stream",
     "text": [
      "<class 'pandas.core.frame.DataFrame'>\n",
      "Int64Index: 12681 entries, 0 to 12680\n",
      "Data columns (total 8 columns):\n",
      " #   Column        Non-Null Count  Dtype  \n",
      "---  ------        --------------  -----  \n",
      " 0   Day_shift     12681 non-null  object \n",
      " 1   Vehicle_type  12681 non-null  object \n",
      " 2   Gender        12681 non-null  object \n",
      " 3   Age           12681 non-null  object \n",
      " 4   Date          12681 non-null  object \n",
      " 5   03.TM         12681 non-null  float64\n",
      " 6   06.HRM        12681 non-null  float64\n",
      " 7   10.VVM10      12681 non-null  float64\n",
      "dtypes: float64(3), object(5)\n",
      "memory usage: 891.6+ KB\n"
     ]
    }
   ],
   "source": [
    "#FROM ALL THE DATA WE ARE JUST GOING TO FOCUS N¡ON THE DRIVERS BECAUSE\n",
    "#THE PASSANGER OR THE PEDESTRIAN DOESN0T HAVE ANY KIND OF POWER TO NOT BE IN THE SITUATION OR HAVE ANY CONTROL\n",
    "\n",
    "persones=persones[['Day_shift','Vehicle_type','Gender','Age','Date']]\n",
    "weather=weather[['Date','03.TM','06.HRM','10.VVM10']]\n",
    "\n",
    "#JOIN THE DATASETS WITH THE VARIABLE DATE\n",
    "variables = pd.merge(persones, weather, on='Date', how='left')\n",
    "variables.info()\n"
   ]
  },
  {
   "attachments": {},
   "cell_type": "markdown",
   "metadata": {},
   "source": [
    "add variable quarter"
   ]
  },
  {
   "cell_type": "code",
   "execution_count": 164,
   "metadata": {},
   "outputs": [
    {
     "data": {
      "text/html": [
       "<div>\n",
       "<style scoped>\n",
       "    .dataframe tbody tr th:only-of-type {\n",
       "        vertical-align: middle;\n",
       "    }\n",
       "\n",
       "    .dataframe tbody tr th {\n",
       "        vertical-align: top;\n",
       "    }\n",
       "\n",
       "    .dataframe thead th {\n",
       "        text-align: right;\n",
       "    }\n",
       "</style>\n",
       "<table border=\"1\" class=\"dataframe\">\n",
       "  <thead>\n",
       "    <tr style=\"text-align: right;\">\n",
       "      <th></th>\n",
       "      <th>Day_shift</th>\n",
       "      <th>Vehicle_type</th>\n",
       "      <th>Gender</th>\n",
       "      <th>Age</th>\n",
       "      <th>Date</th>\n",
       "      <th>03.TM</th>\n",
       "      <th>06.HRM</th>\n",
       "      <th>10.VVM10</th>\n",
       "      <th>Quarter</th>\n",
       "    </tr>\n",
       "  </thead>\n",
       "  <tbody>\n",
       "    <tr>\n",
       "      <th>0</th>\n",
       "      <td>Afternoon</td>\n",
       "      <td>Vehicle without motor</td>\n",
       "      <td>Men</td>\n",
       "      <td>31</td>\n",
       "      <td>2021-06-17 20:00:00</td>\n",
       "      <td>23.4</td>\n",
       "      <td>97.0</td>\n",
       "      <td>1.1</td>\n",
       "      <td>2</td>\n",
       "    </tr>\n",
       "    <tr>\n",
       "      <th>1</th>\n",
       "      <td>Morning</td>\n",
       "      <td>Vehicle without motor</td>\n",
       "      <td>Women</td>\n",
       "      <td>45</td>\n",
       "      <td>2021-04-04 10:00:00</td>\n",
       "      <td>15.9</td>\n",
       "      <td>55.0</td>\n",
       "      <td>2.3</td>\n",
       "      <td>2</td>\n",
       "    </tr>\n",
       "    <tr>\n",
       "      <th>2</th>\n",
       "      <td>Morning</td>\n",
       "      <td>Other</td>\n",
       "      <td>Women</td>\n",
       "      <td>51</td>\n",
       "      <td>2021-10-13 08:00:00</td>\n",
       "      <td>19.3</td>\n",
       "      <td>65.0</td>\n",
       "      <td>1.0</td>\n",
       "      <td>4</td>\n",
       "    </tr>\n",
       "    <tr>\n",
       "      <th>3</th>\n",
       "      <td>Morning</td>\n",
       "      <td>Car</td>\n",
       "      <td>Men</td>\n",
       "      <td>71</td>\n",
       "      <td>2021-09-29 09:00:00</td>\n",
       "      <td>23.5</td>\n",
       "      <td>64.0</td>\n",
       "      <td>1.4</td>\n",
       "      <td>3</td>\n",
       "    </tr>\n",
       "    <tr>\n",
       "      <th>4</th>\n",
       "      <td>Afternoon</td>\n",
       "      <td>Motorcycle</td>\n",
       "      <td>Men</td>\n",
       "      <td>24</td>\n",
       "      <td>2021-07-23 19:00:00</td>\n",
       "      <td>27.7</td>\n",
       "      <td>53.0</td>\n",
       "      <td>0.8</td>\n",
       "      <td>3</td>\n",
       "    </tr>\n",
       "  </tbody>\n",
       "</table>\n",
       "</div>"
      ],
      "text/plain": [
       "   Day_shift           Vehicle_type Gender Age                 Date  03.TM  \\\n",
       "0  Afternoon  Vehicle without motor    Men  31  2021-06-17 20:00:00   23.4   \n",
       "1    Morning  Vehicle without motor  Women  45  2021-04-04 10:00:00   15.9   \n",
       "2    Morning                  Other  Women  51  2021-10-13 08:00:00   19.3   \n",
       "3    Morning                    Car    Men  71  2021-09-29 09:00:00   23.5   \n",
       "4  Afternoon             Motorcycle    Men  24  2021-07-23 19:00:00   27.7   \n",
       "\n",
       "   06.HRM  10.VVM10  Quarter  \n",
       "0    97.0       1.1        2  \n",
       "1    55.0       2.3        2  \n",
       "2    65.0       1.0        4  \n",
       "3    64.0       1.4        3  \n",
       "4    53.0       0.8        3  "
      ]
     },
     "execution_count": 164,
     "metadata": {},
     "output_type": "execute_result"
    }
   ],
   "source": [
    "#add variable quarter and start studying the different variables\n",
    "variables['Quarter'] = variables['Date'].apply(lambda x: pd.Timestamp(x).quarter)\n",
    "variables.head()"
   ]
  },
  {
   "cell_type": "code",
   "execution_count": 165,
   "metadata": {},
   "outputs": [
    {
     "name": "stdout",
     "output_type": "stream",
     "text": [
      "['Afternoon' 'Morning' 'Night']\n",
      "['Vehicle without motor' 'Other' 'Car' 'Motorcycle']\n",
      "['Men' 'Women' 'Not known']\n",
      "['31' '45' '51' '71' '24' '19' '17' '39' '41' '42' '48' '30' '20' '44'\n",
      " '29' '21' '32' '22' '36' '18' '35' '26' '28' '34' '50' '37' '27' '59'\n",
      " '38' '23' '40' '49' '56' '53' '13' '46' '54' '25' '52' '33' '73' '60'\n",
      " '57' '55' '47' '61' '43' '14' '58' '69' '16' '74' '77' '62' '67' '65'\n",
      " '64' '66' '68' '63' '79' '76' '15' '72' '70' '75' '78' '81' '90' '85' '6'\n",
      " '82' 'Desconegut' '86' '89' '12' '80' '88' '0' '83' '8']\n"
     ]
    }
   ],
   "source": [
    "for i in ['Day_shift','Vehicle_type','Gender','Age']:\n",
    "    x=variables[i].unique()\n",
    "    print(x)"
   ]
  },
  {
   "attachments": {},
   "cell_type": "markdown",
   "metadata": {},
   "source": [
    "it is needed to categorize the data"
   ]
  },
  {
   "cell_type": "code",
   "execution_count": 166,
   "metadata": {},
   "outputs": [
    {
     "name": "stdout",
     "output_type": "stream",
     "text": [
      "['Adult' 'Old' 'Youth' 'Kid' 'Age not known']\n",
      "Adult            54.372684\n",
      "Youth            31.724627\n",
      "Old              11.781405\n",
      "Kid               2.073969\n",
      "Age not known     0.047315\n",
      "Name: Age, dtype: float64\n"
     ]
    }
   ],
   "source": [
    "# LETS TRANSFORM TO CATHEGORIC THE COLUMN EDAT\n",
    "#'youth' if their age value is lower than 21, 'young adult' from 21 to 31, 'adult' from 32 to 50, 'old' from 51 /// desconegut(404) -->NOT KNOWN\n",
    "#transform value desconegut a 404\n",
    "variables['Age'] = variables['Age'].replace('Desconegut', '404')\n",
    "def categorize_age(age):\n",
    "    if int(age) <= 18:\n",
    "        return 'Kid'\n",
    "    elif int(age) <= 30 and int(age) > 18:\n",
    "        return 'Youth'\n",
    "    elif int(age) <= 55 and int(age) > 30:\n",
    "        return 'Adult'\n",
    "    elif age == '404':\n",
    "        return 'Age not known'\n",
    "    else:\n",
    "        return 'Old'\n",
    "\n",
    "# Apply function to transform ages to categories\n",
    "variables['Age'] = variables['Age'].apply(categorize_age)\n",
    "\n",
    "x=variables['Age'].unique()\n",
    "print(x)\n",
    "\n",
    "# count the frequency of each value in column 'a'\n",
    "value_counts = variables['Age'].value_counts()\n",
    "\n",
    "# calculate the percentage of times each value appears\n",
    "percentage = (value_counts / len(variables)) * 100\n",
    "print(percentage)"
   ]
  },
  {
   "cell_type": "code",
   "execution_count": 167,
   "metadata": {},
   "outputs": [
    {
     "name": "stdout",
     "output_type": "stream",
     "text": [
      "['Mild' 'Low' 'Hot' 'Very low']\n",
      "Mild        30.273638\n",
      "Very low    25.045343\n",
      "Hot         23.200063\n",
      "Low         21.480956\n",
      "Name: 03.TM, dtype: float64\n"
     ]
    }
   ],
   "source": [
    "#x=variables['03.TM'].unique()\n",
    "# print(np.sort(x)) the data goes from 3.8 to 34.2\n",
    "def cat_temp(temp):\n",
    "    if int(temp) <= 13:\n",
    "        return 'Very low'\n",
    "    elif int(temp) <= 17 and int(temp) > 13:\n",
    "        return 'Low'\n",
    "    elif int(temp) <= 24 and int(temp) > 17:\n",
    "        return 'Mild'\n",
    "    else:\n",
    "        return 'Hot'\n",
    "variables['03.TM'] = variables['03.TM'].apply(cat_temp)\n",
    "\n",
    "x=variables['03.TM'].unique()\n",
    "print(x)\n",
    "\n",
    "# count the frequency of each value in column 'a'\n",
    "value_counts = variables['03.TM'].value_counts()\n",
    "\n",
    "# calculate the percentage of times each value appears\n",
    "percentage = (value_counts / len(variables)) * 100\n",
    "print(percentage)"
   ]
  },
  {
   "cell_type": "code",
   "execution_count": 168,
   "metadata": {},
   "outputs": [
    {
     "name": "stdout",
     "output_type": "stream",
     "text": [
      "['Very high humidity' 'Moderate humidity' 'High humidity' 'Low humidity']\n",
      "High humidity         39.216150\n",
      "Moderate humidity     25.234603\n",
      "Low humidity          19.075783\n",
      "Very high humidity    16.473464\n",
      "Name: 06.HRM, dtype: float64\n"
     ]
    }
   ],
   "source": [
    "#x=variables['06.HRM'].unique()\n",
    "#print(np.sort(x)) from 9 percent to 100 percent\n",
    "def cat_humidity(hum):\n",
    "    if int(hum) <= 48:\n",
    "        return 'Low humidity'\n",
    "    elif int(hum) <= 60 and int(hum) > 48:\n",
    "        return 'Moderate humidity'\n",
    "    elif int(hum) <= 75 and int(hum) > 60:\n",
    "        return 'High humidity'\n",
    "    else:\n",
    "        return 'Very high humidity'\n",
    "variables['06.HRM'] = variables['06.HRM'].apply(cat_humidity)\n",
    "\n",
    "x=variables['06.HRM'].unique()\n",
    "print(x)\n",
    "\n",
    "# count the frequency of each value in column 'a'\n",
    "value_counts = variables['06.HRM'].value_counts()\n",
    "\n",
    "# calculate the percentage of times each value appears\n",
    "percentage = (value_counts / len(variables)) * 100\n",
    "print(percentage)"
   ]
  },
  {
   "cell_type": "code",
   "execution_count": 169,
   "metadata": {},
   "outputs": [
    {
     "name": "stdout",
     "output_type": "stream",
     "text": [
      "['Low speed' 'Moderate speed' 'High speed']\n",
      "Low speed         43.080199\n",
      "Moderate speed    30.344610\n",
      "High speed        26.575191\n",
      "Name: 10.VVM10, dtype: float64\n"
     ]
    }
   ],
   "source": [
    "#x=variables['10.VVM10'].unique()\n",
    "#print(np.sort(x)) from 0 to 8.7\n",
    "#x=variables['06.HRM'].unique()\n",
    "#print(np.sort(x)) from 9 percent to 100 percent\n",
    "def cat_wind(wind):\n",
    "    if int(wind) <= 1:\n",
    "        return 'Low speed'\n",
    "    elif int(wind) <= 2 and int(wind) > 1:\n",
    "        return 'Moderate speed'\n",
    "    else:\n",
    "        return 'High speed'\n",
    "    \n",
    "variables['10.VVM10'] = variables['10.VVM10'].apply(cat_wind)\n",
    "\n",
    "x=variables['10.VVM10'].unique()\n",
    "print(x)\n",
    "\n",
    "# count the frequency of each value in column 'a'\n",
    "value_counts = variables['10.VVM10'].value_counts()\n",
    "\n",
    "# calculate the percentage of times each value appears\n",
    "percentage = (value_counts / len(variables)) * 100\n",
    "print(percentage)"
   ]
  },
  {
   "cell_type": "code",
   "execution_count": 170,
   "metadata": {},
   "outputs": [
    {
     "name": "stdout",
     "output_type": "stream",
     "text": [
      "<class 'pandas.core.frame.DataFrame'>\n",
      "Int64Index: 12681 entries, 0 to 12680\n",
      "Data columns (total 9 columns):\n",
      " #   Column        Non-Null Count  Dtype \n",
      "---  ------        --------------  ----- \n",
      " 0   Day_shift     12681 non-null  object\n",
      " 1   Vehicle_type  12681 non-null  object\n",
      " 2   Gender        12681 non-null  object\n",
      " 3   Age           12681 non-null  object\n",
      " 4   Date          12681 non-null  object\n",
      " 5   03.TM         12681 non-null  object\n",
      " 6   06.HRM        12681 non-null  object\n",
      " 7   10.VVM10      12681 non-null  object\n",
      " 8   Quarter       12681 non-null  int64 \n",
      "dtypes: int64(1), object(8)\n",
      "memory usage: 990.7+ KB\n"
     ]
    }
   ],
   "source": [
    "variables.info()"
   ]
  },
  {
   "cell_type": "code",
   "execution_count": 171,
   "metadata": {},
   "outputs": [
    {
     "name": "stdout",
     "output_type": "stream",
     "text": [
      "Initialization method and algorithm are deterministic. Setting n_init to 1.\n",
      "Init: initializing centroids\n",
      "Init: initializing clusters\n",
      "Starting iterations...\n",
      "Run 1, iteration: 1/5, moves: 0, cost: 20389.0\n",
      "                               0          1          2          3          4\n",
      "Afternoon              73.049454  25.222025  15.298088  12.250217  28.925620\n",
      "Morning                20.603692  67.717584  80.314961  77.237185  13.946281\n",
      "Night                   6.346854   7.060391   4.386952  10.512598  57.128099\n",
      "Car                    10.685891  13.143872  52.868391   6.950478   7.438017\n",
      "Motorcycle             72.928177  66.785080  21.822272  25.629887  71.797521\n",
      "Other                   7.896510   8.969805  11.811024  61.077324  10.537190\n",
      "Vehicle without motor   8.489422  11.101243  13.498313   6.342311  10.227273\n",
      "Men                    76.809055  17.584369  88.188976  87.749783  95.764463\n",
      "Not known               0.013475   0.000000   0.112486   0.086881   0.000000\n",
      "Women                  23.177469  82.415631  11.698538  12.163336   4.235537\n",
      "Adult                  69.141625  24.777975  21.147357  82.363162   7.231405\n",
      "Age not known           0.040426   0.000000   0.112486   0.173762   0.000000\n",
      "Kid                     2.344697   1.420959   2.024747   2.693310   0.826446\n",
      "Old                     9.041908  10.346359  60.742407   1.476977   3.409091\n",
      "Youth                  19.431343  63.454707  15.973003  13.292789  88.533058\n",
      "Hot                    17.962539  18.783304  54.105737   9.730669  61.260331\n",
      "Low                    21.546961  28.374778  28.346457  12.858384   8.884298\n",
      "Mild                   43.080447  10.923623  10.798650  13.727194  14.669421\n",
      "Very low               17.410053  41.918295   6.749156  63.683753  15.185950\n"
     ]
    }
   ],
   "source": [
    "subgrup_1=variables[['Day_shift','Vehicle_type','Gender','Age','03.TM']]\n",
    "\n",
    "#clustering\n",
    "experiment1=subgrup_1.copy()\n",
    "from sklearn import preprocessing  \n",
    "le=preprocessing.LabelEncoder() #transforma variables categ en numeros [0-x]\n",
    "experiment1=experiment1.apply(le.fit_transform)\n",
    "\n",
    "import kmodes\n",
    "from kmodes.kmodes import KModes\n",
    "\n",
    "km_cao=KModes(n_clusters=5,init='Cao',n_init=5,max_iter= 5,verbose=1) #change number of clusters\n",
    "fitClusters_cao=km_cao.fit_predict(experiment1)\n",
    "clusterCentroidsDF=pd.DataFrame(km_cao.cluster_centroids_)\n",
    "clusterCentroidsDF.columns=experiment1.columns\n",
    "\n",
    "experiment1=subgrup_1.reset_index()\n",
    "clustersDF=pd.DataFrame(fitClusters_cao)\n",
    "clustersDF.columns=['cluster prediction']\n",
    "combinedDF=pd.concat([subgrup_1,clustersDF],axis=1).reset_index()\n",
    "combinedDF=combinedDF.drop(['index'],axis=1) #he borrat level 0 del codi\n",
    "\n",
    "\n",
    "variables= ['Day_shift','Vehicle_type','Gender','Age','03.TM']\n",
    "table = pd.DataFrame()\n",
    "\n",
    "for i in variables:\n",
    "    by_cluster_value = combinedDF.groupby(['cluster prediction', i]).size()\n",
    "    percentages_districte = by_cluster_value.groupby(level=0).apply(lambda x: 100 * x / x.sum())\n",
    "    pivot_table = pd.pivot_table(percentages_districte.reset_index(), index=i, columns='cluster prediction', values=0, fill_value=0)\n",
    "\n",
    "# Fill in table with percentage of instances of each value in each cluster for each variable\n",
    "for var in variables:\n",
    "    by_cluster_value = combinedDF.groupby(['cluster prediction', var]).size()\n",
    "    percentages = by_cluster_value.groupby(level=0).apply(lambda x: x / x.sum() * 100)\n",
    "    pivot_table = pd.pivot_table(percentages.reset_index(), index=var, columns='cluster prediction', values=0, fill_value=0)\n",
    "    \n",
    "    # Fill in table with percentage of instances for each value in each cluster\n",
    "    for i, col in enumerate(pivot_table.columns):\n",
    "        values = pivot_table[col].index.tolist()\n",
    "        pct_values = pivot_table[col].tolist()\n",
    "        for j, value in enumerate(values):\n",
    "            table.loc[value, col] = pct_values[j]\n",
    "\n",
    "print(table)"
   ]
  },
  {
   "cell_type": "code",
   "execution_count": 172,
   "metadata": {},
   "outputs": [
    {
     "name": "stdout",
     "output_type": "stream",
     "text": [
      "       Day_shift           Vehicle_type Gender    Age 03.TM  \\\n",
      "0      Afternoon  Vehicle without motor    Men  Adult  Mild   \n",
      "1        Morning  Vehicle without motor  Women  Adult   Low   \n",
      "2        Morning                  Other  Women  Adult  Mild   \n",
      "3        Morning                    Car    Men    Old  Mild   \n",
      "4      Afternoon             Motorcycle    Men  Youth   Hot   \n",
      "...          ...                    ...    ...    ...   ...   \n",
      "12676  Afternoon                    Car    Men  Adult   Low   \n",
      "12677  Afternoon                    Car    Men  Youth  Mild   \n",
      "12678    Morning             Motorcycle  Women  Adult   Hot   \n",
      "12679      Night             Motorcycle    Men  Youth  Mild   \n",
      "12680  Afternoon  Vehicle without motor    Men  Adult  Mild   \n",
      "\n",
      "       cluster prediction  \n",
      "0                       0  \n",
      "1                       1  \n",
      "2                       3  \n",
      "3                       2  \n",
      "4                       4  \n",
      "...                   ...  \n",
      "12676                   0  \n",
      "12677                   0  \n",
      "12678                   1  \n",
      "12679                   4  \n",
      "12680                   0  \n",
      "\n",
      "[12681 rows x 6 columns]\n",
      "Percentage: 23.07%\n"
     ]
    }
   ],
   "source": [
    "print(combinedDF)\n",
    "combinedDF.to_excel('explicacio_percentage_diff.xlsx')\n",
    "filtered_df = combinedDF[(combinedDF['cluster prediction'] == 0) & (combinedDF['Day_shift'] == 'Afternoon')& (combinedDF['Vehicle_type'] == 'Motorcycle') & (combinedDF['Gender'] == 'Men')& (combinedDF['Age'] == 'Adult')]\n",
    "# Count the number of rows that meet the conditions\n",
    "count = len(filtered_df)\n",
    "# Calculate the percentage\n",
    "percentage = (count / len(combinedDF[combinedDF['cluster prediction'] == 0])) * 100\n",
    "\n",
    "print(f\"Percentage: {percentage:.2f}%\")"
   ]
  },
  {
   "cell_type": "code",
   "execution_count": 173,
   "metadata": {},
   "outputs": [
    {
     "name": "stdout",
     "output_type": "stream",
     "text": [
      "7421\n",
      "1712\n",
      "0.23069667160760005\n"
     ]
    }
   ],
   "source": [
    "print(len(combinedDF[combinedDF['cluster prediction'] == 0]))\n",
    "print(count)\n",
    "print(count/len(combinedDF[combinedDF['cluster prediction'] == 0]))"
   ]
  },
  {
   "cell_type": "code",
   "execution_count": 174,
   "metadata": {},
   "outputs": [
    {
     "name": "stdout",
     "output_type": "stream",
     "text": [
      "                              value          0          1          2  \\\n",
      "x                                                                      \n",
      "Day_shift                 Afternoon  73.049454  25.222025  15.298088   \n",
      "Day_shift                   Morning  20.603692  67.717584  80.314961   \n",
      "Day_shift                     Night   6.346854   7.060391   4.386952   \n",
      "Vehicle_type                    Car  10.685891  13.143872  52.868391   \n",
      "Vehicle_type             Motorcycle  72.928177  66.785080  21.822272   \n",
      "Vehicle_type                  Other   7.896510   8.969805  11.811024   \n",
      "Vehicle_type  Vehicle without motor   8.489422  11.101243  13.498313   \n",
      "Gender                          Men  76.809055  17.584369  88.188976   \n",
      "Gender                    Not known   0.013475   0.000000   0.112486   \n",
      "Gender                        Women  23.177469  82.415631  11.698538   \n",
      "Age                           Adult  69.141625  24.777975  21.147357   \n",
      "Age                   Age not known   0.040426   0.000000   0.112486   \n",
      "Age                             Kid   2.344697   1.420959   2.024747   \n",
      "Age                             Old   9.041908  10.346359  60.742407   \n",
      "Age                           Youth  19.431343  63.454707  15.973003   \n",
      "03.TM                           Hot  17.962539  18.783304  54.105737   \n",
      "03.TM                           Low  21.546961  28.374778  28.346457   \n",
      "03.TM                          Mild  43.080447  10.923623  10.798650   \n",
      "03.TM                      Very low  17.410053  41.918295   6.749156   \n",
      "\n",
      "                      3          4  \n",
      "x                                   \n",
      "Day_shift     12.250217  28.925620  \n",
      "Day_shift     77.237185  13.946281  \n",
      "Day_shift     10.512598  57.128099  \n",
      "Vehicle_type   6.950478   7.438017  \n",
      "Vehicle_type  25.629887  71.797521  \n",
      "Vehicle_type  61.077324  10.537190  \n",
      "Vehicle_type   6.342311  10.227273  \n",
      "Gender        87.749783  95.764463  \n",
      "Gender         0.086881   0.000000  \n",
      "Gender        12.163336   4.235537  \n",
      "Age           82.363162   7.231405  \n",
      "Age            0.173762   0.000000  \n",
      "Age            2.693310   0.826446  \n",
      "Age            1.476977   3.409091  \n",
      "Age           13.292789  88.533058  \n",
      "03.TM          9.730669  61.260331  \n",
      "03.TM         12.858384   8.884298  \n",
      "03.TM         13.727194  14.669421  \n",
      "03.TM         63.683753  15.185950  \n"
     ]
    }
   ],
   "source": [
    "table['x'] = ''\n",
    "\n",
    "for index, row in table.iterrows():\n",
    "    if index == 'Afternoon' or index == 'Morning' or index == 'Night':\n",
    "        table.loc[index, 'x'] = 'Day_shift'\n",
    "    elif index in ['Car', 'Motorcycle', 'Other', 'Vehicle without motor']:\n",
    "        table.loc[index, 'x'] = 'Vehicle_type'\n",
    "    elif index in ['Men', 'Women', 'Not known']:\n",
    "        table.loc[index, 'x'] = 'Gender'\n",
    "    elif index in ['Adult', 'Kid', 'Old', 'Youth','Age not known']:\n",
    "        table.loc[index, 'x'] = 'Age'\n",
    "    else:\n",
    "        table.loc[index, 'x'] = '03.TM'\n",
    "\n",
    "table = table.reset_index().rename(columns={'index': 'value'})\n",
    "table = table[['x'] + list(table.columns[:-1])]\n",
    "table = table.set_index('x')\n",
    "\n",
    "print(table)\n",
    "table.to_excel('resultat_percentage_diff.xlsx')\n"
   ]
  },
  {
   "attachments": {},
   "cell_type": "markdown",
   "metadata": {},
   "source": [
    "NOW WE HAVE ALL THE DATA PREPARED AND CATEGORIZED:\n",
    "SUBGROUP 1: DAY_SHIFT,VEHICLE_TYPE,GENDER,AGE,TEMP\n",
    "SUBGROUP 2: VEHICLE_TYPE,GENDER,TEMP,HUMIDITY,"
   ]
  },
  {
   "cell_type": "code",
   "execution_count": 175,
   "metadata": {},
   "outputs": [
    {
     "name": "stdout",
     "output_type": "stream",
     "text": [
      "Number of accidents per cluster:\n",
      "cluster prediction\n",
      "0    7421\n",
      "1    2252\n",
      "2     889\n",
      "3    1151\n",
      "4     968\n",
      "dtype: int64 cluster prediction\n",
      "0    58.520621\n",
      "1    17.758852\n",
      "2     7.010488\n",
      "3     9.076571\n",
      "4     7.633467\n",
      "dtype: float64\n"
     ]
    }
   ],
   "source": [
    "\n",
    "# Compute number of accidents per cluster\n",
    "accidents_by_cluster = combinedDF.groupby('cluster prediction').size()\n",
    "\n",
    "# Compute percentage of accidents per cluster\n",
    "total_accidents = accidents_by_cluster.sum()\n",
    "accident_percentages = accidents_by_cluster / total_accidents * 100\n",
    "\n",
    "# Display results\n",
    "print('Number of accidents per cluster:')\n",
    "print(accidents_by_cluster, accident_percentages)"
   ]
  },
  {
   "cell_type": "code",
   "execution_count": 176,
   "metadata": {},
   "outputs": [
    {
     "data": {
      "image/png": "[encoded data removed]",
      "text/plain": [
       "<Figure size 1500x500 with 1 Axes>"
      ]
     },
     "metadata": {},
     "output_type": "display_data"
    },
    {
     "data": {
      "image/png": "[encoded data removed]",
      "text/plain": [
       "<Figure size 1500x500 with 1 Axes>"
      ]
     },
     "metadata": {},
     "output_type": "display_data"
    },
    {
     "data": {
      "image/png": "[encoded data removed]",
      "text/plain": [
       "<Figure size 1500x500 with 1 Axes>"
      ]
     },
     "metadata": {},
     "output_type": "display_data"
    },
    {
     "data": {
      "image/png": "[encoded data removed]",
      "text/plain": [
       "<Figure size 1500x500 with 1 Axes>"
      ]
     },
     "metadata": {},
     "output_type": "display_data"
    },
    {
     "data": {
      "image/png": "[encoded data removed]",
      "text/plain": [
       "<Figure size 1500x500 with 1 Axes>"
      ]
     },
     "metadata": {},
     "output_type": "display_data"
    }
   ],
   "source": [
    "all_features=['Day_shift','Vehicle_type','Gender','Age','03.TM']\n",
    "for col in all_features:\n",
    "    plt.subplots(figsize = (15,5))\n",
    "    sns.countplot(x='cluster prediction',hue=col, data = combinedDF)\n",
    "    plt.show()"
   ]
  },
  {
   "cell_type": "code",
   "execution_count": 177,
   "metadata": {},
   "outputs": [
    {
     "name": "stdout",
     "output_type": "stream",
     "text": [
      "                              value          0          1          2  \\\n",
      "x                                                                      \n",
      "Day_shift                 Afternoon  73.049454  25.222025  15.298088   \n",
      "Day_shift                   Morning  20.603692  67.717584  80.314961   \n",
      "Day_shift                     Night   6.346854   7.060391   4.386952   \n",
      "Vehicle_type                    Car  10.685891  13.143872  52.868391   \n",
      "Vehicle_type             Motorcycle  72.928177  66.785080  21.822272   \n",
      "Vehicle_type                  Other   7.896510   8.969805  11.811024   \n",
      "Vehicle_type  Vehicle without motor   8.489422  11.101243  13.498313   \n",
      "Gender                          Men  76.809055  17.584369  88.188976   \n",
      "Gender                    Not known   0.013475   0.000000   0.112486   \n",
      "Gender                        Women  23.177469  82.415631  11.698538   \n",
      "Age                           Adult  69.141625  24.777975  21.147357   \n",
      "Age                   Age not known   0.040426   0.000000   0.112486   \n",
      "Age                             Kid   2.344697   1.420959   2.024747   \n",
      "Age                             Old   9.041908  10.346359  60.742407   \n",
      "Age                           Youth  19.431343  63.454707  15.973003   \n",
      "03.TM                           Hot  17.962539  18.783304  54.105737   \n",
      "03.TM                           Low  21.546961  28.374778  28.346457   \n",
      "03.TM                          Mild  43.080447  10.923623  10.798650   \n",
      "03.TM                      Very low  17.410053  41.918295   6.749156   \n",
      "\n",
      "                      3          4  \n",
      "x                                   \n",
      "Day_shift     12.250217  28.925620  \n",
      "Day_shift     77.237185  13.946281  \n",
      "Day_shift     10.512598  57.128099  \n",
      "Vehicle_type   6.950478   7.438017  \n",
      "Vehicle_type  25.629887  71.797521  \n",
      "Vehicle_type  61.077324  10.537190  \n",
      "Vehicle_type   6.342311  10.227273  \n",
      "Gender        87.749783  95.764463  \n",
      "Gender         0.086881   0.000000  \n",
      "Gender        12.163336   4.235537  \n",
      "Age           82.363162   7.231405  \n",
      "Age            0.173762   0.000000  \n",
      "Age            2.693310   0.826446  \n",
      "Age            1.476977   3.409091  \n",
      "Age           13.292789  88.533058  \n",
      "03.TM          9.730669  61.260331  \n",
      "03.TM         12.858384   8.884298  \n",
      "03.TM         13.727194  14.669421  \n",
      "03.TM         63.683753  15.185950  \n"
     ]
    }
   ],
   "source": [
    "print(table)"
   ]
  },
  {
   "cell_type": "code",
   "execution_count": 178,
   "metadata": {},
   "outputs": [
    {
     "name": "stdout",
     "output_type": "stream",
     "text": [
      "                      0          1          2          3          4\n",
      "x                                                                  \n",
      "Day_shift     73.049454  67.717584  80.314961  77.237185  57.128099\n",
      "Vehicle_type  72.928177  66.785080  52.868391  61.077324  71.797521\n",
      "Gender        76.809055  82.415631  88.188976  87.749783  95.764463\n",
      "Age           69.141625  63.454707  60.742407  82.363162  88.533058\n",
      "03.TM         43.080447  41.918295  54.105737  63.683753  61.260331\n"
     ]
    }
   ],
   "source": [
    "table = table.drop('value', axis=1)\n",
    "new_table_2 = pd.DataFrame(index=table.index.unique())\n",
    "# Iterate over each column (0, 1, 2, 3) and find the highest percentage for each variable\n",
    "for col in table.columns:\n",
    "    col_max = table.groupby(level=0)[col].max()\n",
    "    new_table_2[col] = col_max\n",
    "# Display the new DataFrame\n",
    "print(new_table_2)\n"
   ]
  },
  {
   "cell_type": "code",
   "execution_count": 179,
   "metadata": {},
   "outputs": [
    {
     "name": "stdout",
     "output_type": "stream",
     "text": [
      "                                 0  1  2  3  4\n",
      "x                                             \n",
      "Day_shift                        1  0  1  1  0\n",
      "Vehicle_type                     1  0  0  0  1\n",
      "Gender                           1  1  1  1  1\n",
      "Age                              0  0  0  1  1\n",
      "03.TM                            0  0  0  0  0\n",
      "number of significant variables  3  1  2  3  3\n"
     ]
    }
   ],
   "source": [
    "new_table_3= new_table_2.loc[new_table_2.index != 'Cluster percentage of drivers'] = (new_table_2.loc[new_table_2.index != 'Cluster percentage of drivers'] >= 70).astype(int)\n",
    "new_table_3.loc['number of significant variables'] = new_table_3.sum()\n",
    "\n",
    "print(new_table_3)"
   ]
  },
  {
   "cell_type": "code",
   "execution_count": 180,
   "metadata": {},
   "outputs": [
    {
     "name": "stdout",
     "output_type": "stream",
     "text": [
      "                                   0    1    2    3    4\n",
      "x                                                       \n",
      "Day_shift                        1.0  0.0  1.0  1.0  0.0\n",
      "Vehicle_type                     1.0  0.0  0.0  0.0  1.0\n",
      "Gender                           1.0  1.0  1.0  1.0  1.0\n",
      "Age                              0.0  0.0  0.0  1.0  1.0\n",
      "03.TM                            0.0  0.0  0.0  0.0  0.0\n",
      "number of significant variables  3.0  1.0  2.0  3.0  3.0\n",
      "Cluster significance             0.6  0.2  0.4  0.6  0.6\n"
     ]
    }
   ],
   "source": [
    "new_table_3.loc['Cluster significance'] = new_table_3 .loc['number of significant variables'] / 5\n",
    "print(new_table_3)"
   ]
  },
  {
   "cell_type": "code",
   "execution_count": 181,
   "metadata": {},
   "outputs": [
    {
     "name": "stdout",
     "output_type": "stream",
     "text": [
      "                                   0    1    2    3    4\n",
      "x                                                       \n",
      "Day_shift                        1.0  0.0  1.0  1.0  0.0\n",
      "Vehicle_type                     1.0  0.0  0.0  0.0  1.0\n",
      "Gender                           1.0  1.0  1.0  1.0  1.0\n",
      "Age                              0.0  0.0  0.0  1.0  1.0\n",
      "03.TM                            0.0  0.0  0.0  0.0  0.0\n",
      "number of significant variables  3.0  1.0  2.0  3.0  3.0\n",
      "Cluster significance             0.6  0.2  0.4  0.6  0.6\n",
      "Cluster significant?             1.0  0.0  0.0  1.0  1.0\n"
     ]
    }
   ],
   "source": [
    "new_table_3.loc['Cluster significant?'] = new_table_3 .loc['Cluster significance']>=0.5\n",
    "print(new_table_3)"
   ]
  },
  {
   "cell_type": "code",
   "execution_count": 182,
   "metadata": {},
   "outputs": [
    {
     "name": "stdout",
     "output_type": "stream",
     "text": [
      "                                   0    1    2    3    4\n",
      "x                                                       \n",
      "Day_shift                        1.0  0.0  1.0  1.0  0.0\n",
      "Vehicle_type                     1.0  0.0  0.0  0.0  1.0\n",
      "Gender                           1.0  1.0  1.0  1.0  1.0\n",
      "Age                              0.0  0.0  0.0  1.0  1.0\n",
      "03.TM                            0.0  0.0  0.0  0.0  0.0\n",
      "number of significant variables  3.0  1.0  2.0  3.0  3.0\n",
      "Cluster significance             0.6  0.2  0.4  0.6  0.6\n",
      "Cluster significant?             1.0  0.0  0.0  1.0  1.0\n"
     ]
    }
   ],
   "source": [
    "new_table_4= new_table_3\n",
    "print(new_table_4)"
   ]
  },
  {
   "cell_type": "code",
   "execution_count": 183,
   "metadata": {},
   "outputs": [
    {
     "name": "stdout",
     "output_type": "stream",
     "text": [
      "                                   0    1    2    3    4  \\\n",
      "x                                                          \n",
      "Day_shift                        1.0  0.0  1.0  1.0  0.0   \n",
      "Vehicle_type                     1.0  0.0  0.0  0.0  1.0   \n",
      "Gender                           1.0  1.0  1.0  1.0  1.0   \n",
      "Age                              0.0  0.0  0.0  1.0  1.0   \n",
      "03.TM                            0.0  0.0  0.0  0.0  0.0   \n",
      "number of significant variables  3.0  1.0  2.0  3.0  3.0   \n",
      "Cluster significance             0.6  0.2  0.4  0.6  0.6   \n",
      "Cluster significant?             1.0  0.0  0.0  1.0  1.0   \n",
      "Significant clusters             NaN  NaN  NaN  NaN  NaN   \n",
      "\n",
      "                                 percentage of significant cluster  \n",
      "x                                                                   \n",
      "Day_shift                                                      NaN  \n",
      "Vehicle_type                                                   NaN  \n",
      "Gender                                                         NaN  \n",
      "Age                                                            NaN  \n",
      "03.TM                                                          NaN  \n",
      "number of significant variables                                NaN  \n",
      "Cluster significance                                           NaN  \n",
      "Cluster significant?                                           NaN  \n",
      "Significant clusters                                           0.6  \n"
     ]
    }
   ],
   "source": [
    "new_table_4.loc['Significant clusters'] = np.nan\n",
    "# Add a column with the percentage of significant cluster\n",
    "new_table_4.loc['Significant clusters' ,'percentage of significant cluster'] = new_table_4.loc['Cluster significant?'].sum() / 5\n",
    "# Transpose the dataframe back to its original orientation\n",
    "# Print the resulting dataframe\n",
    "print(new_table_4)"
   ]
  }
 ],
 "metadata": {
  "kernelspec": {
   "display_name": "qda-environment_MAC",
   "language": "python",
   "name": "python3"
  },
  "language_info": {
   "codemirror_mode": {
    "name": "ipython",
    "version": 3
   },
   "file_extension": ".py",
   "mimetype": "text/x-python",
   "name": "python",
   "nbconvert_exporter": "python",
   "pygments_lexer": "ipython3",
   "version": "3.10.4"
  },
  "orig_nbformat": 4,
  "vscode": {
   "interpreter": {
    "hash": "ddbab500cb11211a745680fd9d1a021ebe387ff4c58205a0c57203e83576c9f4"
   }
  }
 },
 "nbformat": 4,
 "nbformat_minor": 2
}
