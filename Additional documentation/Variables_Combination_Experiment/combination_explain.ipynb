{
 "cells": [
  {
   "cell_type": "code",
   "execution_count": 3,
   "metadata": {},
   "outputs": [],
   "source": [
    "import numpy as np\n",
    "import pandas as pd \n",
    "import os\n",
    "import matplotlib.pyplot as plt\n",
    "import seaborn as sns\n",
    "import sklearn\n",
    "from itertools import combinations"
   ]
  },
  {
   "cell_type": "code",
   "execution_count": 4,
   "metadata": {},
   "outputs": [
    {
     "name": "stdout",
     "output_type": "stream",
     "text": [
      "[('Day_shift', 'Vehicle_type', 'Gender'), ('Day_shift', 'Vehicle_type', 'Age'), ('Day_shift', 'Vehicle_type', '03.TM'), ('Day_shift', 'Vehicle_type', '06.HRM'), ('Day_shift', 'Vehicle_type', '10.VVM10'), ('Day_shift', 'Vehicle_type', 'Quarter'), ('Day_shift', 'Gender', 'Age'), ('Day_shift', 'Gender', '03.TM'), ('Day_shift', 'Gender', '06.HRM'), ('Day_shift', 'Gender', '10.VVM10'), ('Day_shift', 'Gender', 'Quarter'), ('Day_shift', 'Age', '03.TM'), ('Day_shift', 'Age', '06.HRM'), ('Day_shift', 'Age', '10.VVM10'), ('Day_shift', 'Age', 'Quarter'), ('Day_shift', '03.TM', '06.HRM'), ('Day_shift', '03.TM', '10.VVM10'), ('Day_shift', '03.TM', 'Quarter'), ('Day_shift', '06.HRM', '10.VVM10'), ('Day_shift', '06.HRM', 'Quarter'), ('Day_shift', '10.VVM10', 'Quarter'), ('Vehicle_type', 'Gender', 'Age'), ('Vehicle_type', 'Gender', '03.TM'), ('Vehicle_type', 'Gender', '06.HRM'), ('Vehicle_type', 'Gender', '10.VVM10'), ('Vehicle_type', 'Gender', 'Quarter'), ('Vehicle_type', 'Age', '03.TM'), ('Vehicle_type', 'Age', '06.HRM'), ('Vehicle_type', 'Age', '10.VVM10'), ('Vehicle_type', 'Age', 'Quarter'), ('Vehicle_type', '03.TM', '06.HRM'), ('Vehicle_type', '03.TM', '10.VVM10'), ('Vehicle_type', '03.TM', 'Quarter'), ('Vehicle_type', '06.HRM', '10.VVM10'), ('Vehicle_type', '06.HRM', 'Quarter'), ('Vehicle_type', '10.VVM10', 'Quarter'), ('Gender', 'Age', '03.TM'), ('Gender', 'Age', '06.HRM'), ('Gender', 'Age', '10.VVM10'), ('Gender', 'Age', 'Quarter'), ('Gender', '03.TM', '06.HRM'), ('Gender', '03.TM', '10.VVM10'), ('Gender', '03.TM', 'Quarter'), ('Gender', '06.HRM', '10.VVM10'), ('Gender', '06.HRM', 'Quarter'), ('Gender', '10.VVM10', 'Quarter'), ('Age', '03.TM', '06.HRM'), ('Age', '03.TM', '10.VVM10'), ('Age', '03.TM', 'Quarter'), ('Age', '06.HRM', '10.VVM10'), ('Age', '06.HRM', 'Quarter'), ('Age', '10.VVM10', 'Quarter'), ('03.TM', '06.HRM', '10.VVM10'), ('03.TM', '06.HRM', 'Quarter'), ('03.TM', '10.VVM10', 'Quarter'), ('06.HRM', '10.VVM10', 'Quarter'), ('Day_shift', 'Vehicle_type', 'Gender', 'Age'), ('Day_shift', 'Vehicle_type', 'Gender', '03.TM'), ('Day_shift', 'Vehicle_type', 'Gender', '06.HRM'), ('Day_shift', 'Vehicle_type', 'Gender', '10.VVM10'), ('Day_shift', 'Vehicle_type', 'Gender', 'Quarter'), ('Day_shift', 'Vehicle_type', 'Age', '03.TM'), ('Day_shift', 'Vehicle_type', 'Age', '06.HRM'), ('Day_shift', 'Vehicle_type', 'Age', '10.VVM10'), ('Day_shift', 'Vehicle_type', 'Age', 'Quarter'), ('Day_shift', 'Vehicle_type', '03.TM', '06.HRM'), ('Day_shift', 'Vehicle_type', '03.TM', '10.VVM10'), ('Day_shift', 'Vehicle_type', '03.TM', 'Quarter'), ('Day_shift', 'Vehicle_type', '06.HRM', '10.VVM10'), ('Day_shift', 'Vehicle_type', '06.HRM', 'Quarter'), ('Day_shift', 'Vehicle_type', '10.VVM10', 'Quarter'), ('Day_shift', 'Gender', 'Age', '03.TM'), ('Day_shift', 'Gender', 'Age', '06.HRM'), ('Day_shift', 'Gender', 'Age', '10.VVM10'), ('Day_shift', 'Gender', 'Age', 'Quarter'), ('Day_shift', 'Gender', '03.TM', '06.HRM'), ('Day_shift', 'Gender', '03.TM', '10.VVM10'), ('Day_shift', 'Gender', '03.TM', 'Quarter'), ('Day_shift', 'Gender', '06.HRM', '10.VVM10'), ('Day_shift', 'Gender', '06.HRM', 'Quarter'), ('Day_shift', 'Gender', '10.VVM10', 'Quarter'), ('Day_shift', 'Age', '03.TM', '06.HRM'), ('Day_shift', 'Age', '03.TM', '10.VVM10'), ('Day_shift', 'Age', '03.TM', 'Quarter'), ('Day_shift', 'Age', '06.HRM', '10.VVM10'), ('Day_shift', 'Age', '06.HRM', 'Quarter'), ('Day_shift', 'Age', '10.VVM10', 'Quarter'), ('Day_shift', '03.TM', '06.HRM', '10.VVM10'), ('Day_shift', '03.TM', '06.HRM', 'Quarter'), ('Day_shift', '03.TM', '10.VVM10', 'Quarter'), ('Day_shift', '06.HRM', '10.VVM10', 'Quarter'), ('Vehicle_type', 'Gender', 'Age', '03.TM'), ('Vehicle_type', 'Gender', 'Age', '06.HRM'), ('Vehicle_type', 'Gender', 'Age', '10.VVM10'), ('Vehicle_type', 'Gender', 'Age', 'Quarter'), ('Vehicle_type', 'Gender', '03.TM', '06.HRM'), ('Vehicle_type', 'Gender', '03.TM', '10.VVM10'), ('Vehicle_type', 'Gender', '03.TM', 'Quarter'), ('Vehicle_type', 'Gender', '06.HRM', '10.VVM10'), ('Vehicle_type', 'Gender', '06.HRM', 'Quarter'), ('Vehicle_type', 'Gender', '10.VVM10', 'Quarter'), ('Vehicle_type', 'Age', '03.TM', '06.HRM'), ('Vehicle_type', 'Age', '03.TM', '10.VVM10'), ('Vehicle_type', 'Age', '03.TM', 'Quarter'), ('Vehicle_type', 'Age', '06.HRM', '10.VVM10'), ('Vehicle_type', 'Age', '06.HRM', 'Quarter'), ('Vehicle_type', 'Age', '10.VVM10', 'Quarter'), ('Vehicle_type', '03.TM', '06.HRM', '10.VVM10'), ('Vehicle_type', '03.TM', '06.HRM', 'Quarter'), ('Vehicle_type', '03.TM', '10.VVM10', 'Quarter'), ('Vehicle_type', '06.HRM', '10.VVM10', 'Quarter'), ('Gender', 'Age', '03.TM', '06.HRM'), ('Gender', 'Age', '03.TM', '10.VVM10'), ('Gender', 'Age', '03.TM', 'Quarter'), ('Gender', 'Age', '06.HRM', '10.VVM10'), ('Gender', 'Age', '06.HRM', 'Quarter'), ('Gender', 'Age', '10.VVM10', 'Quarter'), ('Gender', '03.TM', '06.HRM', '10.VVM10'), ('Gender', '03.TM', '06.HRM', 'Quarter'), ('Gender', '03.TM', '10.VVM10', 'Quarter'), ('Gender', '06.HRM', '10.VVM10', 'Quarter'), ('Age', '03.TM', '06.HRM', '10.VVM10'), ('Age', '03.TM', '06.HRM', 'Quarter'), ('Age', '03.TM', '10.VVM10', 'Quarter'), ('Age', '06.HRM', '10.VVM10', 'Quarter'), ('03.TM', '06.HRM', '10.VVM10', 'Quarter'), ('Day_shift', 'Vehicle_type', 'Gender', 'Age', '03.TM'), ('Day_shift', 'Vehicle_type', 'Gender', 'Age', '06.HRM'), ('Day_shift', 'Vehicle_type', 'Gender', 'Age', '10.VVM10'), ('Day_shift', 'Vehicle_type', 'Gender', 'Age', 'Quarter'), ('Day_shift', 'Vehicle_type', 'Gender', '03.TM', '06.HRM'), ('Day_shift', 'Vehicle_type', 'Gender', '03.TM', '10.VVM10'), ('Day_shift', 'Vehicle_type', 'Gender', '03.TM', 'Quarter'), ('Day_shift', 'Vehicle_type', 'Gender', '06.HRM', '10.VVM10'), ('Day_shift', 'Vehicle_type', 'Gender', '06.HRM', 'Quarter'), ('Day_shift', 'Vehicle_type', 'Gender', '10.VVM10', 'Quarter'), ('Day_shift', 'Vehicle_type', 'Age', '03.TM', '06.HRM'), ('Day_shift', 'Vehicle_type', 'Age', '03.TM', '10.VVM10'), ('Day_shift', 'Vehicle_type', 'Age', '03.TM', 'Quarter'), ('Day_shift', 'Vehicle_type', 'Age', '06.HRM', '10.VVM10'), ('Day_shift', 'Vehicle_type', 'Age', '06.HRM', 'Quarter'), ('Day_shift', 'Vehicle_type', 'Age', '10.VVM10', 'Quarter'), ('Day_shift', 'Vehicle_type', '03.TM', '06.HRM', '10.VVM10'), ('Day_shift', 'Vehicle_type', '03.TM', '06.HRM', 'Quarter'), ('Day_shift', 'Vehicle_type', '03.TM', '10.VVM10', 'Quarter'), ('Day_shift', 'Vehicle_type', '06.HRM', '10.VVM10', 'Quarter'), ('Day_shift', 'Gender', 'Age', '03.TM', '06.HRM'), ('Day_shift', 'Gender', 'Age', '03.TM', '10.VVM10'), ('Day_shift', 'Gender', 'Age', '03.TM', 'Quarter'), ('Day_shift', 'Gender', 'Age', '06.HRM', '10.VVM10'), ('Day_shift', 'Gender', 'Age', '06.HRM', 'Quarter'), ('Day_shift', 'Gender', 'Age', '10.VVM10', 'Quarter'), ('Day_shift', 'Gender', '03.TM', '06.HRM', '10.VVM10'), ('Day_shift', 'Gender', '03.TM', '06.HRM', 'Quarter'), ('Day_shift', 'Gender', '03.TM', '10.VVM10', 'Quarter'), ('Day_shift', 'Gender', '06.HRM', '10.VVM10', 'Quarter'), ('Day_shift', 'Age', '03.TM', '06.HRM', '10.VVM10'), ('Day_shift', 'Age', '03.TM', '06.HRM', 'Quarter'), ('Day_shift', 'Age', '03.TM', '10.VVM10', 'Quarter'), ('Day_shift', 'Age', '06.HRM', '10.VVM10', 'Quarter'), ('Day_shift', '03.TM', '06.HRM', '10.VVM10', 'Quarter'), ('Vehicle_type', 'Gender', 'Age', '03.TM', '06.HRM'), ('Vehicle_type', 'Gender', 'Age', '03.TM', '10.VVM10'), ('Vehicle_type', 'Gender', 'Age', '03.TM', 'Quarter'), ('Vehicle_type', 'Gender', 'Age', '06.HRM', '10.VVM10'), ('Vehicle_type', 'Gender', 'Age', '06.HRM', 'Quarter'), ('Vehicle_type', 'Gender', 'Age', '10.VVM10', 'Quarter'), ('Vehicle_type', 'Gender', '03.TM', '06.HRM', '10.VVM10'), ('Vehicle_type', 'Gender', '03.TM', '06.HRM', 'Quarter'), ('Vehicle_type', 'Gender', '03.TM', '10.VVM10', 'Quarter'), ('Vehicle_type', 'Gender', '06.HRM', '10.VVM10', 'Quarter'), ('Vehicle_type', 'Age', '03.TM', '06.HRM', '10.VVM10'), ('Vehicle_type', 'Age', '03.TM', '06.HRM', 'Quarter'), ('Vehicle_type', 'Age', '03.TM', '10.VVM10', 'Quarter'), ('Vehicle_type', 'Age', '06.HRM', '10.VVM10', 'Quarter'), ('Vehicle_type', '03.TM', '06.HRM', '10.VVM10', 'Quarter'), ('Gender', 'Age', '03.TM', '06.HRM', '10.VVM10'), ('Gender', 'Age', '03.TM', '06.HRM', 'Quarter'), ('Gender', 'Age', '03.TM', '10.VVM10', 'Quarter'), ('Gender', 'Age', '06.HRM', '10.VVM10', 'Quarter'), ('Gender', '03.TM', '06.HRM', '10.VVM10', 'Quarter'), ('Age', '03.TM', '06.HRM', '10.VVM10', 'Quarter'), ('Day_shift', 'Vehicle_type', 'Gender', 'Age', '03.TM', '06.HRM'), ('Day_shift', 'Vehicle_type', 'Gender', 'Age', '03.TM', '10.VVM10'), ('Day_shift', 'Vehicle_type', 'Gender', 'Age', '03.TM', 'Quarter'), ('Day_shift', 'Vehicle_type', 'Gender', 'Age', '06.HRM', '10.VVM10'), ('Day_shift', 'Vehicle_type', 'Gender', 'Age', '06.HRM', 'Quarter'), ('Day_shift', 'Vehicle_type', 'Gender', 'Age', '10.VVM10', 'Quarter'), ('Day_shift', 'Vehicle_type', 'Gender', '03.TM', '06.HRM', '10.VVM10'), ('Day_shift', 'Vehicle_type', 'Gender', '03.TM', '06.HRM', 'Quarter'), ('Day_shift', 'Vehicle_type', 'Gender', '03.TM', '10.VVM10', 'Quarter'), ('Day_shift', 'Vehicle_type', 'Gender', '06.HRM', '10.VVM10', 'Quarter'), ('Day_shift', 'Vehicle_type', 'Age', '03.TM', '06.HRM', '10.VVM10'), ('Day_shift', 'Vehicle_type', 'Age', '03.TM', '06.HRM', 'Quarter'), ('Day_shift', 'Vehicle_type', 'Age', '03.TM', '10.VVM10', 'Quarter'), ('Day_shift', 'Vehicle_type', 'Age', '06.HRM', '10.VVM10', 'Quarter'), ('Day_shift', 'Vehicle_type', '03.TM', '06.HRM', '10.VVM10', 'Quarter'), ('Day_shift', 'Gender', 'Age', '03.TM', '06.HRM', '10.VVM10'), ('Day_shift', 'Gender', 'Age', '03.TM', '06.HRM', 'Quarter'), ('Day_shift', 'Gender', 'Age', '03.TM', '10.VVM10', 'Quarter'), ('Day_shift', 'Gender', 'Age', '06.HRM', '10.VVM10', 'Quarter'), ('Day_shift', 'Gender', '03.TM', '06.HRM', '10.VVM10', 'Quarter'), ('Day_shift', 'Age', '03.TM', '06.HRM', '10.VVM10', 'Quarter'), ('Vehicle_type', 'Gender', 'Age', '03.TM', '06.HRM', '10.VVM10'), ('Vehicle_type', 'Gender', 'Age', '03.TM', '06.HRM', 'Quarter'), ('Vehicle_type', 'Gender', 'Age', '03.TM', '10.VVM10', 'Quarter'), ('Vehicle_type', 'Gender', 'Age', '06.HRM', '10.VVM10', 'Quarter'), ('Vehicle_type', 'Gender', '03.TM', '06.HRM', '10.VVM10', 'Quarter'), ('Vehicle_type', 'Age', '03.TM', '06.HRM', '10.VVM10', 'Quarter'), ('Gender', 'Age', '03.TM', '06.HRM', '10.VVM10', 'Quarter'), ('Day_shift', 'Vehicle_type', 'Gender', 'Age', '03.TM', '06.HRM', '10.VVM10'), ('Day_shift', 'Vehicle_type', 'Gender', 'Age', '03.TM', '06.HRM', 'Quarter'), ('Day_shift', 'Vehicle_type', 'Gender', 'Age', '03.TM', '10.VVM10', 'Quarter'), ('Day_shift', 'Vehicle_type', 'Gender', 'Age', '06.HRM', '10.VVM10', 'Quarter'), ('Day_shift', 'Vehicle_type', 'Gender', '03.TM', '06.HRM', '10.VVM10', 'Quarter'), ('Day_shift', 'Vehicle_type', 'Age', '03.TM', '06.HRM', '10.VVM10', 'Quarter'), ('Day_shift', 'Gender', 'Age', '03.TM', '06.HRM', '10.VVM10', 'Quarter'), ('Vehicle_type', 'Gender', 'Age', '03.TM', '06.HRM', '10.VVM10', 'Quarter'), ('Day_shift', 'Vehicle_type', 'Gender', 'Age', '03.TM', '06.HRM', '10.VVM10', 'Quarter')]\n"
     ]
    }
   ],
   "source": [
    "variables_name = ['Day_shift', 'Vehicle_type', 'Gender', 'Age', '03.TM', '06.HRM', '10.VVM10', 'Quarter']\n",
    "\n",
    "# Generate combinations of 3 to 8 variables\n",
    "combinations_list = []\n",
    "for r in range(3, 9):\n",
    "    combinations_list.extend(combinations(variables_name, r))\n",
    "print(combinations_list)\n"
   ]
  }
 ],
 "metadata": {
  "kernelspec": {
   "display_name": "qda-environment_MAC",
   "language": "python",
   "name": "python3"
  },
  "language_info": {
   "codemirror_mode": {
    "name": "ipython",
    "version": 3
   },
   "file_extension": ".py",
   "mimetype": "text/x-python",
   "name": "python",
   "nbconvert_exporter": "python",
   "pygments_lexer": "ipython3",
   "version": "3.10.4"
  },
  "orig_nbformat": 4,
  "vscode": {
   "interpreter": {
    "hash": "ddbab500cb11211a745680fd9d1a021ebe387ff4c58205a0c57203e83576c9f4"
   }
  }
 },
 "nbformat": 4,
 "nbformat_minor": 2
}
