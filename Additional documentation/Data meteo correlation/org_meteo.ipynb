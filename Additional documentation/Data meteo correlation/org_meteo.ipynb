{
 "cells": [
  {
   "cell_type": "code",
   "execution_count": null,
   "metadata": {},
   "outputs": [],
   "source": [
    "import pandas as pd\n",
    "import numpy as np\n",
    "import matplotlib.pyplot as plt\n",
    "from datetime import datetime\n",
    "\n"
   ]
  },
  {
   "attachments": {},
   "cell_type": "markdown",
   "metadata": {},
   "source": [
    "inspeccionem que hi ha dins del csv de les dades meteorologiques"
   ]
  },
  {
   "cell_type": "code",
   "execution_count": null,
   "metadata": {},
   "outputs": [],
   "source": [
    "data_allmeteo=pd.read_csv('Dades_meteorol_giques_de_la_XEMA.csv')\n",
    "data_allmeteo.info()\n",
    "data_allmeteo.head()\n"
   ]
  },
  {
   "cell_type": "code",
   "execution_count": null,
   "metadata": {},
   "outputs": [],
   "source": [
    "type(data_allmeteo['DATA_LECTURA'][0])"
   ]
  },
  {
   "attachments": {},
   "cell_type": "markdown",
   "metadata": {},
   "source": [
    "veiem que la columna data_lectura es un string, ho convertirem a datetime per poder treballar més fàcil"
   ]
  },
  {
   "cell_type": "code",
   "execution_count": null,
   "metadata": {},
   "outputs": [],
   "source": [
    "data_allmeteo['DATA_LECTURA'] = pd.to_datetime(data_allmeteo['DATA_LECTURA'])"
   ]
  },
  {
   "cell_type": "code",
   "execution_count": null,
   "metadata": {},
   "outputs": [],
   "source": [
    "type(data_allmeteo['DATA_LECTURA'][0])"
   ]
  },
  {
   "attachments": {},
   "cell_type": "markdown",
   "metadata": {},
   "source": [
    "now of all the data i want to keep just the data from 2021 and 2022"
   ]
  },
  {
   "cell_type": "code",
   "execution_count": null,
   "metadata": {},
   "outputs": [],
   "source": [
    "data_allmeteo = data_allmeteo[data_allmeteo['DATA_LECTURA'].dt.year.isin([2021, 2022])] # Filter to only keep data from 2021 and 2022"
   ]
  },
  {
   "cell_type": "code",
   "execution_count": null,
   "metadata": {},
   "outputs": [],
   "source": [
    "data_allmeteo.info()\n",
    "data_allmeteo.head()"
   ]
  },
  {
   "attachments": {},
   "cell_type": "markdown",
   "metadata": {},
   "source": [
    "Now we are going to organize the data into variables"
   ]
  },
  {
   "cell_type": "code",
   "execution_count": null,
   "metadata": {},
   "outputs": [],
   "source": [
    "pivot_df = data_allmeteo.pivot(index='DATA_LECTURA', columns='CODI_VARIABLE', values='VALOR_LECTURA')\n",
    "pivot_df = pivot_df.reset_index()\n"
   ]
  },
  {
   "cell_type": "code",
   "execution_count": null,
   "metadata": {},
   "outputs": [],
   "source": [
    "# create a dictionary to map the old column names to new column names\n",
    "column_map = {32: '03.TM',\n",
    "              40: '04.TX',\n",
    "              42: '05.TN',\n",
    "              33: '06.HRM',\n",
    "              35: '07.PPT24H',\n",
    "              34: '08.HPA',\n",
    "              36: '09.RS24H',\n",
    "              30: '10.VVM10',\n",
    "              31: '11.DVM10'}\n",
    "\n",
    "# rename the columns using the dictionary\n",
    "pivot_df= pivot_df.rename(columns=column_map)\n",
    "pivot_df=pivot_df[['DATA_LECTURA','03.TM','04.TX','05.TN','06.HRM','07.PPT24H','08.HPA', '09.RS24H','10.VVM10','11.DVM10']]"
   ]
  },
  {
   "attachments": {},
   "cell_type": "markdown",
   "metadata": {},
   "source": [
    "separete data into 2021 and 2022"
   ]
  },
  {
   "cell_type": "code",
   "execution_count": null,
   "metadata": {},
   "outputs": [],
   "source": [
    "data_meteo_2021_2022=pivot_df.copy()"
   ]
  },
  {
   "cell_type": "code",
   "execution_count": null,
   "metadata": {},
   "outputs": [],
   "source": [
    "data_meteo_2021 = pivot_df[pivot_df['DATA_LECTURA'].dt.year.isin([2021])] # Filter to only keep data from 2021 "
   ]
  },
  {
   "cell_type": "code",
   "execution_count": null,
   "metadata": {},
   "outputs": [],
   "source": [
    "data_meteo_2022 = pivot_df[pivot_df['DATA_LECTURA'].dt.year.isin([2022])] # Filter to only keep data from 2021 "
   ]
  },
  {
   "cell_type": "code",
   "execution_count": null,
   "metadata": {},
   "outputs": [],
   "source": [
    "x=data_allmeteo['DATA_LECTURA'].unique()\n",
    "print(len(x))\n",
    "print(len(data_meteo_2021))\n",
    "print(len(data_meteo_2022))\n",
    "print(len(data_meteo_2021)+len(data_meteo_2022))"
   ]
  },
  {
   "cell_type": "code",
   "execution_count": null,
   "metadata": {},
   "outputs": [],
   "source": [
    "data_meteo_2021_2022.to_csv('data_meteo_2021_2022.csv', index=False)\n",
    "data_meteo_2021.to_csv('data_meteo_2021.csv', index=False)\n",
    "data_meteo_2022.to_csv('data_meteo_2022.csv', index=False)"
   ]
  },
  {
   "attachments": {},
   "cell_type": "markdown",
   "metadata": {},
   "source": [
    " aquest pas es un cop fet l'experiment de correlacions entre variables on obtinc el csv \n",
    " amb les variables que m'interesen\n",
    " omplo els valors nan de la columna vm10 amb la mitjana"
   ]
  },
  {
   "cell_type": "code",
   "execution_count": 92,
   "metadata": {},
   "outputs": [
    {
     "name": "stdout",
     "output_type": "stream",
     "text": [
      "<class 'pandas.core.frame.DataFrame'>\n",
      "RangeIndex: 35040 entries, 0 to 35039\n",
      "Data columns (total 7 columns):\n",
      " #   Column        Non-Null Count  Dtype  \n",
      "---  ------        --------------  -----  \n",
      " 0   DATA_LECTURA  35040 non-null  object \n",
      " 1   03.TM         35040 non-null  float64\n",
      " 2   06.HRM        35040 non-null  float64\n",
      " 3   07.PPT24H     35040 non-null  float64\n",
      " 4   08.HPA        35040 non-null  float64\n",
      " 5   09.RS24H      35040 non-null  float64\n",
      " 6   10.VVM10      35040 non-null  float64\n",
      "dtypes: float64(6), object(1)\n",
      "memory usage: 1.9+ MB\n"
     ]
    }
   ],
   "source": [
    "data_meteo_final=pd.read_csv('data_meteo_2021_2022.csv')\n",
    "data_meteo_final= data_meteo_final[['DATA_LECTURA','03.TM','06.HRM','07.PPT24H','08.HPA', '09.RS24H','10.VVM10']]\n",
    "data_meteo_final['10.VVM10'].fillna((data_meteo_final['10.VVM10'].mean()), inplace=True)\n",
    "data_meteo_final['10.VVM10']=data_meteo_final['10.VVM10'].round(1)\n",
    "data_meteo_final.info()\n",
    "data_meteo_final.to_csv('data_meteo_estudifinal_2021_2022.csv')\n"
   ]
  },
  {
   "cell_type": "code",
   "execution_count": null,
   "metadata": {},
   "outputs": [],
   "source": [
    "data_meteo_2021_2022.info()\n"
   ]
  },
  {
   "cell_type": "code",
   "execution_count": null,
   "metadata": {},
   "outputs": [],
   "source": [
    "data_meteo_2021.info()"
   ]
  },
  {
   "cell_type": "code",
   "execution_count": null,
   "metadata": {},
   "outputs": [],
   "source": [
    "data_meteo_2022.info()"
   ]
  },
  {
   "cell_type": "code",
   "execution_count": null,
   "metadata": {},
   "outputs": [],
   "source": [
    "import seaborn as sns\n",
    "import matplotlib.pyplot as plt\n",
    "\n",
    "data_meteo_2021_2022 = data_meteo_2021_2022.drop('DATA_LECTURA',1)\n",
    "\n",
    "plt.figure(figsize=(16,8))\n",
    "# define the mask to set the values in the upper triangle to True\n",
    "mask = np.triu(np.ones_like(data_meteo_2021_2022.corr(method ='pearson'), dtype=np.bool))\n",
    "heatmapP = sns.heatmap(data_meteo_2021_2022.corr(method ='pearson'), mask=mask, vmin=-1, vmax=1, annot=True, cmap='BrBG')\n",
    "heatmapP.set_title('Taula de correlació entre variables. Pearson', fontdict={'fontsize':15}, pad=16);\n",
    "\n",
    "plt.savefig('Pearson.png', dpi=300, bbox_inches='tight')"
   ]
  },
  {
   "cell_type": "code",
   "execution_count": null,
   "metadata": {},
   "outputs": [],
   "source": [
    "plt.figure(figsize=(16,8))\n",
    "# define the mask to set the values in the upper triangle to True\n",
    "mask = np.triu(np.ones_like(data_meteo_2021_2022.corr(method ='spearman'), dtype=np.bool))\n",
    "heatmapS = sns.heatmap(data_meteo_2021_2022.corr(method ='spearman'), mask=mask, vmin=-1, vmax=1, annot=True, cmap='BrBG')\n",
    "heatmapS.set_title('Taula de correlació entre variables. Spearman', fontdict={'fontsize':15}, pad=16);\n",
    "\n",
    "plt.savefig('Spearman.png', dpi=300, bbox_inches='tight')"
   ]
  },
  {
   "cell_type": "code",
   "execution_count": null,
   "metadata": {},
   "outputs": [],
   "source": [
    "#Calcul dels P-values Spearman de les dades \n",
    "from scipy.stats import spearmanr\n",
    "import pandas as pd\n",
    "\n",
    "def calculate_pvaluesS(data_meteo_2021_2022):\n",
    "    data_meteo_2021_2022 = data_meteo_2021_2022.dropna()._get_numeric_data()\n",
    "    dfcols = pd.DataFrame(columns=data_meteo_2021_2022.columns)\n",
    "    pvalues = dfcols.transpose().join(dfcols, how='outer')\n",
    "    for r in data_meteo_2021_2022.columns:\n",
    "        for c in data_meteo_2021_2022.columns:\n",
    "            pvalues[r][c] = round(spearmanr(data_meteo_2021_2022[r], data_meteo_2021_2022[c])[1], 4)\n",
    "    return pvalues\n"
   ]
  },
  {
   "cell_type": "code",
   "execution_count": null,
   "metadata": {},
   "outputs": [],
   "source": [
    "#Calcul dels P-values Pearson de les dades \n",
    "from scipy.stats import pearsonr\n",
    "import pandas as pd\n",
    "\n",
    "def calculate_pvaluesP(data_meteo_2021_2022):\n",
    "    data_meteo_2021_2022 = data_meteo_2021_2022.dropna()._get_numeric_data()\n",
    "    dfcols = pd.DataFrame(columns=data_meteo_2021_2022.columns)\n",
    "    pvalues = dfcols.transpose().join(dfcols, how='outer')\n",
    "    for r in data_meteo_2021_2022.columns:\n",
    "        for c in data_meteo_2021_2022.columns:\n",
    "            pvalues[r][c] = round(pearsonr(data_meteo_2021_2022[r], data_meteo_2021_2022[c])[1], 4)\n",
    "    return pvalues"
   ]
  },
  {
   "cell_type": "code",
   "execution_count": null,
   "metadata": {},
   "outputs": [],
   "source": [
    "#Calcul dels P value de Spearman i Pearson\n",
    "PvalS=[]\n",
    "PvalP=[]\n",
    "PvalS=calculate_pvaluesS(data_meteo_2021_2022).values\n",
    "PvalP=calculate_pvaluesP(data_meteo_2021_2022).values\n",
    "\n",
    "#PvalC = PvalC.astype(int)\n",
    "PvalS=PvalS.astype(float)\n",
    "PvalS=PvalS.round(5)\n",
    "\n",
    "PvalP=PvalP.astype(float)\n",
    "PvalP=PvalP.round(5)\n",
    "\n",
    "#representarció\n",
    "plt.figure(figsize=(16,8))\n",
    "# define the mask to set the values in the upper triangle to True\n",
    "mask = np.triu(np.ones_like(PvalS, dtype=np.bool))\n",
    "heatmap = sns.heatmap(PvalS, mask=mask, vmin=-1, vmax=1, annot=True, cmap='BrBG')\n",
    "heatmap.set_title('PValues Pearson', fontdict={'fontsize':15}, pad=16);\n",
    "plt.savefig('PvalSpearman.png', dpi=300, bbox_inches='tight')\n",
    "\n",
    "#representarció\n",
    "plt.figure(figsize=(16,8))\n",
    "# define the mask to set the values in the upper triangle to True\n",
    "mask = np.triu(np.ones_like(PvalP, dtype=np.bool))\n",
    "heatmap = sns.heatmap(PvalP, mask=mask, vmin=-1, vmax=1, annot=True, cmap='BrBG')\n",
    "heatmap.set_title('PValues Spearman', fontdict={'fontsize':15}, pad=16);\n",
    "plt.savefig('PvalPearson.png', dpi=300, bbox_inches='tight')"
   ]
  },
  {
   "cell_type": "code",
   "execution_count": null,
   "metadata": {},
   "outputs": [],
   "source": [
    "data_meteo_2021_2022=data_meteo_2021_2022.dropna()\n",
    "corr_matrix = data_meteo_2021_2022.corr(method = 'pearson')\n",
    "from scipy.stats import pearsonr\n",
    "pvalues = []\n",
    "for i in range(len(data_meteo_2021_2022.columns)):\n",
    "    for j in range(i+1, len(data_meteo_2021_2022.columns)):\n",
    "        corr, p_value = pearsonr(data_meteo_2021_2022.iloc[:,i], data_meteo_2021_2022.iloc[:,j])\n",
    "        pvalues.append(p_value)\n",
    "        \n",
    "significant_corr = []\n",
    "sig_threshold = 0.05\n",
    "\n",
    "for index, p_value in enumerate(pvalues):\n",
    "    if p_value < sig_threshold:\n",
    "        significant_corr.append((data_meteo_2021_2022.columns[index//len(data_meteo_2021_2022.columns)], data_meteo_2021_2022.columns[index%len(data_meteo_2021_2022.columns)]))\n",
    "\n",
    "significant_df = pd.DataFrame(significant_corr, columns=['Variable 1', 'Variable 2'])\n",
    "\n"
   ]
  }
 ],
 "metadata": {
  "kernelspec": {
   "display_name": "qda-environment_MAC",
   "language": "python",
   "name": "python3"
  },
  "language_info": {
   "codemirror_mode": {
    "name": "ipython",
    "version": 3
   },
   "file_extension": ".py",
   "mimetype": "text/x-python",
   "name": "python",
   "nbconvert_exporter": "python",
   "pygments_lexer": "ipython3",
   "version": "3.10.4"
  },
  "orig_nbformat": 4,
  "vscode": {
   "interpreter": {
    "hash": "ddbab500cb11211a745680fd9d1a021ebe387ff4c58205a0c57203e83576c9f4"
   }
  }
 },
 "nbformat": 4,
 "nbformat_minor": 2
}
